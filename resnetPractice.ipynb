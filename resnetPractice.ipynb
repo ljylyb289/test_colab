{
  "nbformat": 4,
  "nbformat_minor": 0,
  "metadata": {
    "colab": {
      "provenance": [],
      "machine_shape": "hm",
      "gpuType": "V100",
      "authorship_tag": "ABX9TyMYZ0b8wYSm4ZPZhLgmhfcI",
      "include_colab_link": true
    },
    "kernelspec": {
      "name": "python3",
      "display_name": "Python 3"
    },
    "language_info": {
      "name": "python"
    },
    "accelerator": "GPU"
  },
  "cells": [
    {
      "cell_type": "markdown",
      "metadata": {
        "id": "view-in-github",
        "colab_type": "text"
      },
      "source": [
        "<a href=\"https://colab.research.google.com/github/oilportrait/test_colab/blob/main/resnetPractice.ipynb\" target=\"_parent\"><img src=\"https://colab.research.google.com/assets/colab-badge.svg\" alt=\"Open In Colab\"/></a>"
      ]
    },
    {
      "cell_type": "code",
      "execution_count": 2,
      "metadata": {
        "id": "HMrGuh6cAsEb"
      },
      "outputs": [],
      "source": [
        "!mkdir -p ~/.kaggle\n",
        "!cp kaggle.json ~/.kaggle\n",
        "!chmod 600 ~/.kaggle/kaggle.json"
      ]
    },
    {
      "cell_type": "code",
      "source": [
        "!kaggle datasets download -d mikoajfish99/carrots-vs-rockets-image-classification"
      ],
      "metadata": {
        "colab": {
          "base_uri": "https://localhost:8080/",
          "height": 0
        },
        "id": "Xm8j7qcPBLIV",
        "outputId": "60f9a717-0239-4567-dba5-0d74356c6175"
      },
      "execution_count": 3,
      "outputs": [
        {
          "output_type": "stream",
          "name": "stdout",
          "text": [
            "Downloading carrots-vs-rockets-image-classification.zip to /content\n",
            "100% 90.0M/90.2M [00:02<00:00, 43.1MB/s]\n",
            "100% 90.2M/90.2M [00:02<00:00, 34.1MB/s]\n"
          ]
        }
      ]
    },
    {
      "cell_type": "code",
      "source": [
        "!mkdir sample\n",
        "!unzip carrots-vs-rockets-image-classification.zip -d ./sample/"
      ],
      "metadata": {
        "id": "gdVPAeKQBPUx"
      },
      "execution_count": null,
      "outputs": []
    },
    {
      "cell_type": "code",
      "source": [
        "! pip install transformers datasets"
      ],
      "metadata": {
        "id": "viKgbyO0BgdC"
      },
      "execution_count": null,
      "outputs": []
    },
    {
      "cell_type": "markdown",
      "source": [
        "이미지 데이터를 어떻게 전처리할지 규정합니다."
      ],
      "metadata": {
        "id": "WQfGTUEPkj0f"
      }
    },
    {
      "cell_type": "code",
      "source": [
        "import torchvision.transforms as transforms\n",
        "from torchvision.datasets import ImageFolder\n",
        "from torch.utils.data import DataLoader, random_split\n",
        "\n",
        "transform = transforms.Compose([\n",
        "    transforms.Resize((224, 224)),\n",
        "    transforms.ToTensor(),\n",
        "    # resnet은 Imagenet기반으로 학습되었기에 ImageNet의 평균과 표준편차로 Standardization을 수행합니다.\n",
        "    transforms.Normalize(mean=[0.485, 0.456, 0.406], std=[0.229, 0.224, 0.225]),\n",
        "])"
      ],
      "metadata": {
        "id": "ZNWVMWwkF5bU"
      },
      "execution_count": 6,
      "outputs": []
    },
    {
      "cell_type": "code",
      "source": [
        "# 규정한 전처리로 이미지데이터를 불러오며 가공합니다.\n",
        "data = ImageFolder(root='./sample/Images/', transform=transform)"
      ],
      "metadata": {
        "id": "PAJU1GKBGVY0"
      },
      "execution_count": 7,
      "outputs": []
    },
    {
      "cell_type": "markdown",
      "source": [
        "Train, validation, test로 데이터를 분류합니다."
      ],
      "metadata": {
        "id": "CBLy0KTJmjWm"
      }
    },
    {
      "cell_type": "code",
      "source": [
        "trainProportion = 0.7\n",
        "valProportion = 0.2\n",
        "\n",
        "totalSize = len(data)\n",
        "trainSize = int(trainProportion * totalSize)\n",
        "valSize = int(valProportion * totalSize)\n",
        "testSize = totalSize - trainSize - valSize\n",
        "\n",
        "trainData, valData, testData = random_split(data, [trainSize, valSize, testSize])"
      ],
      "metadata": {
        "id": "7iAn8RQaHgIE"
      },
      "execution_count": 8,
      "outputs": []
    },
    {
      "cell_type": "markdown",
      "source": [
        "데이터 세트를 어떻게 이용할것인지 규정해놓습니다."
      ],
      "metadata": {
        "id": "NbEKgv_2nbf5"
      }
    },
    {
      "cell_type": "code",
      "source": [
        "trainLoader = DataLoader(trainData, batch_size=32, shuffle=True)\n",
        "valLoader = DataLoader(valData, batch_size=32, shuffle=False)\n",
        "testLoader = DataLoader(testData, batch_size=32, shuffle=False)"
      ],
      "metadata": {
        "id": "UGGLRM7AJYl_"
      },
      "execution_count": 9,
      "outputs": []
    },
    {
      "cell_type": "markdown",
      "source": [
        "Pre-trained된 모델인 Resnet50을 가져옵니다."
      ],
      "metadata": {
        "id": "EIcvJ_vGnjtQ"
      }
    },
    {
      "cell_type": "code",
      "source": [
        "import torch.nn as nn\n",
        "import torchvision.models as models\n",
        "model = models.resnet50(pretrained=True)\n",
        "model.fc = nn.Linear(model.fc.in_features, 2)"
      ],
      "metadata": {
        "colab": {
          "base_uri": "https://localhost:8080/",
          "height": 0
        },
        "id": "l0kOsxjcKI3n",
        "outputId": "f41dbd1c-08ef-4ff0-9e08-43f8a2684491"
      },
      "execution_count": 10,
      "outputs": [
        {
          "output_type": "stream",
          "name": "stderr",
          "text": [
            "/usr/local/lib/python3.10/dist-packages/torchvision/models/_utils.py:208: UserWarning: The parameter 'pretrained' is deprecated since 0.13 and may be removed in the future, please use 'weights' instead.\n",
            "  warnings.warn(\n",
            "/usr/local/lib/python3.10/dist-packages/torchvision/models/_utils.py:223: UserWarning: Arguments other than a weight enum or `None` for 'weights' are deprecated since 0.13 and may be removed in the future. The current behavior is equivalent to passing `weights=ResNet50_Weights.IMAGENET1K_V1`. You can also use `weights=ResNet50_Weights.DEFAULT` to get the most up-to-date weights.\n",
            "  warnings.warn(msg)\n",
            "Downloading: \"https://download.pytorch.org/models/resnet50-0676ba61.pth\" to /root/.cache/torch/hub/checkpoints/resnet50-0676ba61.pth\n",
            "100%|██████████| 97.8M/97.8M [00:00<00:00, 297MB/s]\n"
          ]
        }
      ]
    },
    {
      "cell_type": "markdown",
      "source": [
        "Case1. 불러온 모델을 파인 튜닝하지 않고 바로 테스트 해봅니다."
      ],
      "metadata": {
        "id": "cck5YOE5oC5e"
      }
    },
    {
      "cell_type": "code",
      "source": [
        "import torch\n",
        "device = torch.device(\"cuda\" if torch.cuda.is_available() else \"cpu\") # GPU 사용 여부 확인\n",
        "model.to(device)\n",
        "model.eval()  # 평가시의 일관성을 위해서 평가 모드를 설정해놓습니다.\n",
        "correct_predictions = 0 # 올바른 예측을 측정하기 위한 변수\n",
        "\n",
        "with torch.no_grad(): # 평가중에는 기울기 계산이 불필요합니다.\n",
        "    for inputs, labels in testLoader:\n",
        "        inputs, labels = inputs.to(device), labels.to(device)\n",
        "\n",
        "        outputs = model(inputs) # 모델에 데이터를 넣고 결과값을 받습니다.\n",
        "        _, preds = torch.max(outputs, 1)\n",
        "        correct_predictions += torch.sum(preds == labels.data) # 예측값의 정답여부에 따라 위에서 설정한 변수를 업데이트 합니다.\n",
        "\n",
        "test_accuracy = correct_predictions.double() / len(testData) # 정답률을 계산합니다.\n",
        "print(f\"Test Accuracy: {test_accuracy}\")\n"
      ],
      "metadata": {
        "colab": {
          "base_uri": "https://localhost:8080/",
          "height": 0
        },
        "id": "b0mTQi--O4Bi",
        "outputId": "f659d949-d486-4bf6-bde8-1d01dc2e05dd"
      },
      "execution_count": 12,
      "outputs": [
        {
          "output_type": "stream",
          "name": "stdout",
          "text": [
            "Test Accuracy: 0.3870967741935484\n"
          ]
        }
      ]
    },
    {
      "cell_type": "markdown",
      "source": [
        "파인 튜닝을 하지 않았을때 절반도 맞추지 못했습니다"
      ],
      "metadata": {
        "id": "X3jIlaS2sRNN"
      }
    },
    {
      "cell_type": "markdown",
      "source": [
        "Case2. 불러온 모델을 파인 튜닝해보겠습니다."
      ],
      "metadata": {
        "id": "iwGhBLbnsawC"
      }
    },
    {
      "cell_type": "markdown",
      "source": [
        "파인 튜닝시 사용할 최적화 방식을 규정해 놓습니다."
      ],
      "metadata": {
        "id": "sfG8GDccnvCC"
      }
    },
    {
      "cell_type": "code",
      "source": [
        "import torch.optim as optim\n",
        "criterion = nn.CrossEntropyLoss()\n",
        "optimizer = optim.Adam(model.parameters(), lr=0.001)"
      ],
      "metadata": {
        "id": "RtiWBV6WKWrd"
      },
      "execution_count": 13,
      "outputs": []
    },
    {
      "cell_type": "markdown",
      "source": [
        "직접 모델을 훈련시키고 validation도 수행합니다."
      ],
      "metadata": {
        "id": "-4D6j7S7st93"
      }
    },
    {
      "cell_type": "code",
      "source": [
        "import torch\n",
        "device = torch.device(\"cuda\" if torch.cuda.is_available() else \"cpu\")\n",
        "model.to(device)\n",
        "# earlt stopping을 위한 변수와 에포크 횟수를 정합니다.\n",
        "num_epochs = 20\n",
        "best_val_accuracy = 0\n",
        "patience_counter = 0\n",
        "max_patience = 5\n",
        "\n",
        "for epoch in range(num_epochs):\n",
        "    model.train()\n",
        "    for inputs, labels in trainLoader:\n",
        "        inputs, labels = inputs.to(device), labels.to(device)\n",
        "        optimizer.zero_grad() # 기울기를 누적하지 않습니다.\n",
        "        outputs = model(inputs)\n",
        "        loss = criterion(outputs, labels) # 정답과의 차이를 계산합니다.\n",
        "        loss.backward() #  backpropagation을 이용해서 기울기를 계산합니다.\n",
        "        optimizer.step() # 모델의 파라미터를 업데이트합니다.\n",
        "\n",
        "    model.eval()\n",
        "    total_val_loss = 0\n",
        "    correct_val_predictions = 0\n",
        "    with torch.no_grad():\n",
        "        for inputs, labels in valLoader:\n",
        "            inputs, labels = inputs.to(device), labels.to(device)\n",
        "            outputs = model(inputs)\n",
        "            loss = criterion(outputs, labels)\n",
        "            total_val_loss += loss.item()\n",
        "            _, preds = torch.max(outputs, 1)\n",
        "            correct_val_predictions += torch.sum(preds == labels.data)\n",
        "    val_accuracy = correct_val_predictions.double() / valSize\n",
        "    print(f\"Epoch {epoch+1}/{num_epochs}, Loss: {loss.item()}, Validation Loss: {total_val_loss}, Validation Accuracy: {val_accuracy}\")\n",
        "\n",
        "    # earlt stopping을 설정합니다.\n",
        "    if val_accuracy > best_val_accuracy:\n",
        "        best_val_accuracy = val_accuracy\n",
        "        patience_counter = 0\n",
        "    else:\n",
        "        patience_counter += 1\n",
        "        if patience_counter >= max_patience:\n",
        "            print(\"너 데이터 학습을 안하고 암기를 해? 멈춰\")\n",
        "            break\n"
      ],
      "metadata": {
        "colab": {
          "base_uri": "https://localhost:8080/",
          "height": 0
        },
        "id": "XAiahOB0KiOn",
        "outputId": "6f1d2c40-89dd-4d61-9326-bd14be751f6b"
      },
      "execution_count": 18,
      "outputs": [
        {
          "output_type": "stream",
          "name": "stdout",
          "text": [
            "Epoch 1/20, Loss: 0.1419064849615097, Validation Loss: 0.4750799685716629, Validation Accuracy: 0.9180327868852459\n",
            "Epoch 2/20, Loss: 0.6434555053710938, Validation Loss: 1.3048861026763916, Validation Accuracy: 0.8688524590163935\n",
            "Epoch 3/20, Loss: 0.11024395376443863, Validation Loss: 0.4260857477784157, Validation Accuracy: 0.9344262295081968\n",
            "Epoch 4/20, Loss: 0.15463115274906158, Validation Loss: 0.41519223153591156, Validation Accuracy: 0.9508196721311476\n",
            "Epoch 5/20, Loss: 0.6555197238922119, Validation Loss: 5.148508310317993, Validation Accuracy: 0.819672131147541\n",
            "Epoch 6/20, Loss: 0.34422945976257324, Validation Loss: 2.7084851264953613, Validation Accuracy: 0.8032786885245902\n",
            "Epoch 7/20, Loss: 0.11238492280244827, Validation Loss: 0.9186012223362923, Validation Accuracy: 0.8524590163934427\n",
            "Epoch 8/20, Loss: 0.010279589332640171, Validation Loss: 0.13916368130594492, Validation Accuracy: 0.9672131147540984\n",
            "Epoch 9/20, Loss: 0.10661259293556213, Validation Loss: 0.1906706616282463, Validation Accuracy: 0.9672131147540984\n",
            "Epoch 10/20, Loss: 0.27305319905281067, Validation Loss: 0.4089546203613281, Validation Accuracy: 0.9508196721311476\n",
            "Epoch 11/20, Loss: 0.1456804871559143, Validation Loss: 0.1775401420891285, Validation Accuracy: 0.9836065573770493\n",
            "Epoch 12/20, Loss: 0.8479633331298828, Validation Loss: 1.0160923600196838, Validation Accuracy: 0.9344262295081968\n",
            "Epoch 13/20, Loss: 1.209925889968872, Validation Loss: 3.3681256771087646, Validation Accuracy: 0.8688524590163935\n",
            "Epoch 14/20, Loss: 0.3520765006542206, Validation Loss: 0.8324956893920898, Validation Accuracy: 0.9180327868852459\n",
            "Epoch 15/20, Loss: 0.19309140741825104, Validation Loss: 0.40268661081790924, Validation Accuracy: 0.9180327868852459\n",
            "Epoch 16/20, Loss: 0.024265455082058907, Validation Loss: 0.30111544020473957, Validation Accuracy: 0.9508196721311476\n",
            "너 데이터 학습을 안하고 암기를 해? 멈춰\n"
          ]
        }
      ]
    },
    {
      "cell_type": "markdown",
      "source": [
        "파인 튜닝된 모델로 평가를 해봅니다."
      ],
      "metadata": {
        "id": "-OJzHCbTyAU2"
      }
    },
    {
      "cell_type": "code",
      "source": [
        "model.eval()\n",
        "total_test_loss = 0\n",
        "correct_test_predictions = 0\n",
        "with torch.no_grad():\n",
        "    for inputs, labels in testLoader:\n",
        "        inputs, labels = inputs.to(device), labels.to(device)\n",
        "        outputs = model(inputs)\n",
        "        loss = criterion(outputs, labels)\n",
        "        total_test_loss += loss.item()\n",
        "        _, preds = torch.max(outputs, 1)\n",
        "        correct_test_predictions += torch.sum(preds == labels.data) # 맞는 경우를\n",
        "test_accuracy = correct_test_predictions.double() / testSize\n",
        "print(f\"Test Loss: {total_test_loss}, Test Accuracy: {test_accuracy}\")\n"
      ],
      "metadata": {
        "colab": {
          "base_uri": "https://localhost:8080/",
          "height": 0
        },
        "id": "m7932dxnMIY2",
        "outputId": "bb44542e-13db-404c-db41-d1b48290f072"
      },
      "execution_count": 19,
      "outputs": [
        {
          "output_type": "stream",
          "name": "stdout",
          "text": [
            "Test Loss: 0.17484506964683533, Test Accuracy: 0.967741935483871\n"
          ]
        }
      ]
    },
    {
      "cell_type": "markdown",
      "source": [
        "파인튜닝을 하니 큰폭으로 정답을 맞추는 횟수가 늘어났습니다."
      ],
      "metadata": {
        "id": "oXaMHLMszs1f"
      }
    }
  ]
}