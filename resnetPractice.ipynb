{
  "nbformat": 4,
  "nbformat_minor": 0,
  "metadata": {
    "colab": {
      "provenance": [],
      "machine_shape": "hm",
      "gpuType": "V100",
      "authorship_tag": "ABX9TyN+OyEVhQCEdmZ3eoR1WxVz",
      "include_colab_link": true
    },
    "kernelspec": {
      "name": "python3",
      "display_name": "Python 3"
    },
    "language_info": {
      "name": "python"
    },
    "accelerator": "GPU"
  },
  "cells": [
    {
      "cell_type": "markdown",
      "metadata": {
        "id": "view-in-github",
        "colab_type": "text"
      },
      "source": [
        "<a href=\"https://colab.research.google.com/github/oilportrait/test_colab/blob/main/resnetPractice.ipynb\" target=\"_parent\"><img src=\"https://colab.research.google.com/assets/colab-badge.svg\" alt=\"Open In Colab\"/></a>"
      ]
    },
    {
      "cell_type": "code",
      "execution_count": 1,
      "metadata": {
        "id": "HMrGuh6cAsEb"
      },
      "outputs": [],
      "source": [
        "!mkdir -p ~/.kaggle\n",
        "!cp kaggle.json ~/.kaggle\n",
        "!chmod 600 ~/.kaggle/kaggle.json"
      ]
    },
    {
      "cell_type": "code",
      "source": [
        "!kaggle datasets download -d mikoajfish99/carrots-vs-rockets-image-classification"
      ],
      "metadata": {
        "colab": {
          "base_uri": "https://localhost:8080/"
        },
        "id": "Xm8j7qcPBLIV",
        "outputId": "45a438c8-84b8-4cca-eb56-c564acd8cc49"
      },
      "execution_count": 2,
      "outputs": [
        {
          "output_type": "stream",
          "name": "stdout",
          "text": [
            "Downloading carrots-vs-rockets-image-classification.zip to /content\n",
            " 98% 88.0M/90.2M [00:03<00:00, 41.5MB/s]\n",
            "100% 90.2M/90.2M [00:03<00:00, 26.6MB/s]\n"
          ]
        }
      ]
    },
    {
      "cell_type": "code",
      "source": [
        "!mkdir sample\n",
        "!unzip carrots-vs-rockets-image-classification.zip -d ./sample/"
      ],
      "metadata": {
        "id": "gdVPAeKQBPUx"
      },
      "execution_count": null,
      "outputs": []
    },
    {
      "cell_type": "code",
      "source": [
        "! pip install transformers datasets"
      ],
      "metadata": {
        "id": "viKgbyO0BgdC"
      },
      "execution_count": null,
      "outputs": []
    },
    {
      "cell_type": "markdown",
      "source": [
        "이미지 데이터를 어떻게 전처리할지 규정합니다."
      ],
      "metadata": {
        "id": "WQfGTUEPkj0f"
      }
    },
    {
      "cell_type": "code",
      "source": [
        "import torchvision.transforms as transforms\n",
        "from torchvision.datasets import ImageFolder\n",
        "from torch.utils.data import DataLoader, random_split\n",
        "\n",
        "transform = transforms.Compose([\n",
        "    transforms.Resize((224, 224)),\n",
        "    transforms.ToTensor(),\n",
        "    # resnet은 Imagenet기반으로 학습되었기에 ImageNet의 평균과 표준편차로 Standardization을 수행합니다.\n",
        "    transforms.Normalize(mean=[0.485, 0.456, 0.406], std=[0.229, 0.224, 0.225]),\n",
        "])"
      ],
      "metadata": {
        "id": "ZNWVMWwkF5bU"
      },
      "execution_count": 5,
      "outputs": []
    },
    {
      "cell_type": "code",
      "source": [
        "# 규정한 전처리로 이미지데이터를 불러오며 가공합니다.\n",
        "data = ImageFolder(root='./sample/Images/', transform=transform)"
      ],
      "metadata": {
        "id": "PAJU1GKBGVY0"
      },
      "execution_count": 6,
      "outputs": []
    },
    {
      "cell_type": "markdown",
      "source": [
        "Train, validation, test로 데이터를 분류합니다."
      ],
      "metadata": {
        "id": "CBLy0KTJmjWm"
      }
    },
    {
      "cell_type": "code",
      "source": [
        "trainProportion = 0.7\n",
        "valProportion = 0.2\n",
        "\n",
        "totalSize = len(data)\n",
        "trainSize = int(trainProportion * totalSize)\n",
        "valSize = int(valProportion * totalSize)\n",
        "testSize = totalSize - trainSize - valSize\n",
        "\n",
        "trainData, valData, testData = random_split(data, [trainSize, valSize, testSize])"
      ],
      "metadata": {
        "id": "7iAn8RQaHgIE"
      },
      "execution_count": 7,
      "outputs": []
    },
    {
      "cell_type": "markdown",
      "source": [
        "데이터 세트를 어떻게 이용할것인지 규정해놓습니다."
      ],
      "metadata": {
        "id": "NbEKgv_2nbf5"
      }
    },
    {
      "cell_type": "code",
      "source": [
        "trainLoader = DataLoader(trainData, batch_size=32, shuffle=True)\n",
        "valLoader = DataLoader(valData, batch_size=32, shuffle=False)\n",
        "testLoader = DataLoader(testData, batch_size=32, shuffle=False)"
      ],
      "metadata": {
        "id": "UGGLRM7AJYl_"
      },
      "execution_count": 8,
      "outputs": []
    },
    {
      "cell_type": "markdown",
      "source": [
        "Pre-trained된 모델인 Resnet50을 가져옵니다."
      ],
      "metadata": {
        "id": "EIcvJ_vGnjtQ"
      }
    },
    {
      "cell_type": "code",
      "source": [
        "import torch.nn as nn\n",
        "import torchvision.models as models\n",
        "model = models.resnet50(pretrained=True)\n",
        "model.fc = nn.Linear(model.fc.in_features, 2)"
      ],
      "metadata": {
        "id": "l0kOsxjcKI3n"
      },
      "execution_count": 21,
      "outputs": []
    },
    {
      "cell_type": "markdown",
      "source": [
        "불러온 모델을 파인 튜닝해보겠습니다."
      ],
      "metadata": {
        "id": "iwGhBLbnsawC"
      }
    },
    {
      "cell_type": "markdown",
      "source": [
        "파인 튜닝시 사용할 최적화 방식을 규정해 놓습니다."
      ],
      "metadata": {
        "id": "sfG8GDccnvCC"
      }
    },
    {
      "cell_type": "code",
      "source": [
        "import torch.optim as optim\n",
        "criterion = nn.CrossEntropyLoss()\n",
        "optimizer = optim.Adam(model.parameters(), lr=0.001)"
      ],
      "metadata": {
        "id": "RtiWBV6WKWrd"
      },
      "execution_count": 23,
      "outputs": []
    },
    {
      "cell_type": "markdown",
      "source": [
        "그냥 모델을 학습 시키면 마지막에 추가한 fc레이어만 파라미터가 변합니다. resnet의 파라미터도 변하길 바라므로 아래와 같은 코드를 작성합니다."
      ],
      "metadata": {
        "id": "k_5sto97HDiS"
      }
    },
    {
      "cell_type": "code",
      "source": [
        "\"\"\"resnet의 마지막 레이어만 변형했을떄 가장 좋은 결과가 나온다는걸 확인했습니다.\n",
        " 모든 레이어 변경시 validation accuracy: 0.93\n",
        " fc레이어만 변경시 validation accuracy: 0.95\n",
        " 레이터4만 변경시 validation accuracy: 0.96\"\"\"\n",
        "for param in model.layer4.parameters():\n",
        "    param.requires_grad = True"
      ],
      "metadata": {
        "id": "MBXXQE1fBMgw"
      },
      "execution_count": 32,
      "outputs": []
    },
    {
      "cell_type": "markdown",
      "source": [
        "직접 모델을 훈련시키고 validation도 수행합니다."
      ],
      "metadata": {
        "id": "-4D6j7S7st93"
      }
    },
    {
      "cell_type": "code",
      "source": [
        "import torch\n",
        "device = torch.device(\"cuda\" if torch.cuda.is_available() else \"cpu\")\n",
        "model.to(device)\n",
        "# earily stopping을 위한 변수와 에포크 횟수를 정합니다.\n",
        "num_epochs = 20\n",
        "best_val_accuracy = 0\n",
        "patience_counter = 0\n",
        "max_patience = 5\n",
        "\n",
        "for epoch in range(num_epochs):\n",
        "    model.train()\n",
        "    for inputs, labels in trainLoader:\n",
        "        inputs, labels = inputs.to(device), labels.to(device)\n",
        "        optimizer.zero_grad() # 기울기를 누적하지 않습니다.\n",
        "        outputs = model(inputs)\n",
        "        loss = criterion(outputs, labels) # 정답과의 차이를 계산합니다.\n",
        "        loss.backward() #  backpropagation을 이용해서 기울기를 계산합니다.\n",
        "        optimizer.step() # 모델의 파라미터를 업데이트합니다.\n",
        "\n",
        "    model.eval()\n",
        "    total_val_loss = 0\n",
        "    correct_val_predictions = 0\n",
        "    with torch.no_grad():\n",
        "        for inputs, labels in valLoader:\n",
        "            inputs, labels = inputs.to(device), labels.to(device)\n",
        "            outputs = model(inputs)\n",
        "            loss = criterion(outputs, labels)\n",
        "            total_val_loss += loss.item()\n",
        "            _, preds = torch.max(outputs, 1)\n",
        "            correct_val_predictions += torch.sum(preds == labels.data)\n",
        "    val_accuracy = correct_val_predictions.double() / valSize\n",
        "    print(f\"Epoch {epoch+1}/{num_epochs}, Loss: {loss.item()}, Validation Loss: {total_val_loss}, Validation Accuracy: {val_accuracy}\")\n",
        "\n",
        "    # earlt stopping을 설정합니다.\n",
        "    if val_accuracy > best_val_accuracy:\n",
        "        best_val_accuracy = val_accuracy\n",
        "        patience_counter = 0\n",
        "    else:\n",
        "        patience_counter += 1\n",
        "        if patience_counter >= max_patience:\n",
        "            print(\"너 데이터 학습을 안하고 암기를 해? 멈춰\")\n",
        "            break"
      ],
      "metadata": {
        "colab": {
          "base_uri": "https://localhost:8080/"
        },
        "id": "XAiahOB0KiOn",
        "outputId": "983dedd6-6447-419f-ec00-dce354e6b04c"
      },
      "execution_count": 29,
      "outputs": [
        {
          "output_type": "stream",
          "name": "stdout",
          "text": [
            "Epoch 1/20, Loss: 0.007404356263577938, Validation Loss: 0.6212058952078223, Validation Accuracy: 0.9344262295081968\n",
            "Epoch 2/20, Loss: 0.010848945006728172, Validation Loss: 0.6342896278947592, Validation Accuracy: 0.9508196721311476\n",
            "Epoch 3/20, Loss: 0.0120578333735466, Validation Loss: 0.6746743246912956, Validation Accuracy: 0.9180327868852459\n",
            "Epoch 4/20, Loss: 0.009943041019141674, Validation Loss: 0.6165975062176585, Validation Accuracy: 0.9344262295081968\n",
            "Epoch 5/20, Loss: 0.01009453646838665, Validation Loss: 0.49752689711749554, Validation Accuracy: 0.9672131147540984\n",
            "Epoch 6/20, Loss: 0.009471186436712742, Validation Loss: 0.4587067747488618, Validation Accuracy: 0.9672131147540984\n",
            "Epoch 7/20, Loss: 0.0184218417853117, Validation Loss: 0.5662760268896818, Validation Accuracy: 0.9672131147540984\n",
            "Epoch 8/20, Loss: 0.2939535677433014, Validation Loss: 1.1593802869319916, Validation Accuracy: 0.9344262295081968\n",
            "Epoch 9/20, Loss: 0.2917131185531616, Validation Loss: 1.2214497327804565, Validation Accuracy: 0.9508196721311476\n",
            "Epoch 10/20, Loss: 0.12910719215869904, Validation Loss: 0.7588213235139847, Validation Accuracy: 0.9508196721311476\n",
            "너 데이터 학습을 안하고 암기를 해? 멈춰\n"
          ]
        }
      ]
    },
    {
      "cell_type": "markdown",
      "source": [
        "파인 튜닝된 모델로 평가를 해봅니다."
      ],
      "metadata": {
        "id": "-OJzHCbTyAU2"
      }
    },
    {
      "cell_type": "code",
      "source": [
        "model.eval()\n",
        "total_test_loss = 0\n",
        "correct_test_predictions = 0\n",
        "with torch.no_grad():\n",
        "    for inputs, labels in testLoader:\n",
        "        inputs, labels = inputs.to(device), labels.to(device)\n",
        "        outputs = model(inputs)\n",
        "        loss = criterion(outputs, labels)\n",
        "        total_test_loss += loss.item()\n",
        "        _, preds = torch.max(outputs, 1)\n",
        "        correct_test_predictions += torch.sum(preds == labels.data)\n",
        "test_accuracy = correct_test_predictions.double() / testSize\n",
        "print(f\"Test Loss: {total_test_loss}, Test Accuracy: {test_accuracy}\")\n"
      ],
      "metadata": {
        "colab": {
          "base_uri": "https://localhost:8080/"
        },
        "id": "m7932dxnMIY2",
        "outputId": "e5665421-49e4-472c-9d50-17a505b9472c"
      },
      "execution_count": 30,
      "outputs": [
        {
          "output_type": "stream",
          "name": "stdout",
          "text": [
            "Test Loss: 0.06897492706775665, Test Accuracy: 0.967741935483871\n"
          ]
        }
      ]
    }
  ]
}