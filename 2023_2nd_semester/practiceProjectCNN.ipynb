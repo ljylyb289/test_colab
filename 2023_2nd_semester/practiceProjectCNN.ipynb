{
  "nbformat": 4,
  "nbformat_minor": 0,
  "metadata": {
    "colab": {
      "provenance": [],
      "machine_shape": "hm",
      "gpuType": "T4",
      "authorship_tag": "ABX9TyPScfYJ7mBGEApC8Z7XlcAv",
      "include_colab_link": true
    },
    "kernelspec": {
      "name": "python3",
      "display_name": "Python 3"
    },
    "language_info": {
      "name": "python"
    },
    "accelerator": "GPU"
  },
  "cells": [
    {
      "cell_type": "markdown",
      "metadata": {
        "id": "view-in-github",
        "colab_type": "text"
      },
      "source": [
        "<a href=\"https://colab.research.google.com/github/oilportrait/test_colab/blob/main/practiceProjectCNN.ipynb\" target=\"_parent\"><img src=\"https://colab.research.google.com/assets/colab-badge.svg\" alt=\"Open In Colab\"/></a>"
      ]
    },
    {
      "cell_type": "code",
      "execution_count": 3,
      "metadata": {
        "id": "RDI5MCPvBZay"
      },
      "outputs": [],
      "source": [
        "!mkdir -p ~/.kaggle\n",
        "!cp kaggle.json ~/.kaggle\n",
        "!chmod 600 ~/.kaggle/kaggle.json"
      ]
    },
    {
      "cell_type": "code",
      "source": [
        "!kaggle datasets download -d mikoajfish99/carrots-vs-rockets-image-classification"
      ],
      "metadata": {
        "colab": {
          "base_uri": "https://localhost:8080/"
        },
        "id": "E8jFU7NYDHp_",
        "outputId": "5b5506fb-aa73-4b9d-f023-65db859146bc"
      },
      "execution_count": 4,
      "outputs": [
        {
          "output_type": "stream",
          "name": "stdout",
          "text": [
            "Downloading carrots-vs-rockets-image-classification.zip to /content\n",
            " 98% 88.0M/90.2M [00:05<00:00, 21.3MB/s]\n",
            "100% 90.2M/90.2M [00:05<00:00, 16.0MB/s]\n"
          ]
        }
      ]
    },
    {
      "cell_type": "code",
      "source": [
        "!mkdir sample"
      ],
      "metadata": {
        "id": "gu3wSN_JEQnK"
      },
      "execution_count": 5,
      "outputs": []
    },
    {
      "cell_type": "code",
      "source": [
        "!unzip carrots-vs-rockets-image-classification.zip -d ./sample/"
      ],
      "metadata": {
        "colab": {
          "base_uri": "https://localhost:8080/"
        },
        "id": "XO3qQ3TzEeiJ",
        "outputId": "55a735fd-8eae-4c92-9f01-49824d70cab9"
      },
      "execution_count": 6,
      "outputs": [
        {
          "output_type": "stream",
          "name": "stdout",
          "text": [
            "Archive:  carrots-vs-rockets-image-classification.zip\n",
            "  inflating: ./sample/Images/Carrots/000333bbb9b7ae4c.jpg  \n",
            "  inflating: ./sample/Images/Carrots/0022d08b808c7af6.jpg  \n",
            "  inflating: ./sample/Images/Carrots/002469afe027814c.jpg  \n",
            "  inflating: ./sample/Images/Carrots/004bdf076237f2fb.jpg  \n",
            "  inflating: ./sample/Images/Carrots/00714e843dcac5e3.jpg  \n",
            "  inflating: ./sample/Images/Carrots/007c1d785782989c.jpg  \n",
            "  inflating: ./sample/Images/Carrots/00b69a01ddc58eaf.jpg  \n",
            "  inflating: ./sample/Images/Carrots/00ce3578cf700c14.jpg  \n",
            "  inflating: ./sample/Images/Carrots/0107069d8e6d0490.jpg  \n",
            "  inflating: ./sample/Images/Carrots/0177c759a586204e.jpg  \n",
            "  inflating: ./sample/Images/Carrots/01b32dadf81ac313.jpg  \n",
            "  inflating: ./sample/Images/Carrots/02195c0230ff7cb8.jpg  \n",
            "  inflating: ./sample/Images/Carrots/028711cdda533c78.jpg  \n",
            "  inflating: ./sample/Images/Carrots/02924ae5412e1165.jpg  \n",
            "  inflating: ./sample/Images/Carrots/02fdcb9074408b91.jpg  \n",
            "  inflating: ./sample/Images/Carrots/030c8ab76561d5b0.jpg  \n",
            "  inflating: ./sample/Images/Carrots/0313d19eb780e21f.jpg  \n",
            "  inflating: ./sample/Images/Carrots/038ac177215be388.jpg  \n",
            "  inflating: ./sample/Images/Carrots/03a14d484c69fb74.jpg  \n",
            "  inflating: ./sample/Images/Carrots/042599f89412ab51.jpg  \n",
            "  inflating: ./sample/Images/Carrots/0429706a3ea85e52.jpg  \n",
            "  inflating: ./sample/Images/Carrots/0520cabbd7f79367.jpg  \n",
            "  inflating: ./sample/Images/Carrots/066c6ee7a8120370.jpg  \n",
            "  inflating: ./sample/Images/Carrots/067d40e5b93cc9a5.jpg  \n",
            "  inflating: ./sample/Images/Carrots/06f96bffd17049ff.jpg  \n",
            "  inflating: ./sample/Images/Carrots/0820b0c10650d4b8.jpg  \n",
            "  inflating: ./sample/Images/Carrots/0a3c1cd136db1386.jpg  \n",
            "  inflating: ./sample/Images/Carrots/0b4073dbb94d7e2c.jpg  \n",
            "  inflating: ./sample/Images/Carrots/0b5599a0ea6df06b.jpg  \n",
            "  inflating: ./sample/Images/Carrots/0c6a30ce641260ec.jpg  \n",
            "  inflating: ./sample/Images/Carrots/0dcdadcc33878b39.jpg  \n",
            "  inflating: ./sample/Images/Carrots/0ef8a32e36488ce1.jpg  \n",
            "  inflating: ./sample/Images/Carrots/103b542645332e4a.jpg  \n",
            "  inflating: ./sample/Images/Carrots/109d85688571586c.jpg  \n",
            "  inflating: ./sample/Images/Carrots/11169521684876b1.jpg  \n",
            "  inflating: ./sample/Images/Carrots/11187e9739967b0c.jpg  \n",
            "  inflating: ./sample/Images/Carrots/11e263724e922913.jpg  \n",
            "  inflating: ./sample/Images/Carrots/1358e27ab0e1f094.jpg  \n",
            "  inflating: ./sample/Images/Carrots/14d7c6f55c00203a.jpg  \n",
            "  inflating: ./sample/Images/Carrots/15940c693b5b00c4.jpg  \n",
            "  inflating: ./sample/Images/Carrots/15dda266bbac4e64.jpg  \n",
            "  inflating: ./sample/Images/Carrots/1ab307c07d334428.jpg  \n",
            "  inflating: ./sample/Images/Carrots/1bb64c46562474ce.jpg  \n",
            "  inflating: ./sample/Images/Carrots/1c8af3e193e7e2c2.jpg  \n",
            "  inflating: ./sample/Images/Carrots/1d0f054feb599525.jpg  \n",
            "  inflating: ./sample/Images/Carrots/1dbbe41cac3386c0.jpg  \n",
            "  inflating: ./sample/Images/Carrots/1e06912394a048d7.jpg  \n",
            "  inflating: ./sample/Images/Carrots/1e5c804572ae4da9.jpg  \n",
            "  inflating: ./sample/Images/Carrots/1ea453e9b92b482c.jpg  \n",
            "  inflating: ./sample/Images/Carrots/1eccf09c3d9bdc2b.jpg  \n",
            "  inflating: ./sample/Images/Carrots/1f7ff76e16363397.jpg  \n",
            "  inflating: ./sample/Images/Carrots/211971419f3d6279.jpg  \n",
            "  inflating: ./sample/Images/Carrots/21ad7613916961ad.jpg  \n",
            "  inflating: ./sample/Images/Carrots/22025c92ab2e46b7.jpg  \n",
            "  inflating: ./sample/Images/Carrots/23230743d0474356.jpg  \n",
            "  inflating: ./sample/Images/Carrots/242027324ba41170.jpg  \n",
            "  inflating: ./sample/Images/Carrots/24ca99d3ab72cd03.jpg  \n",
            "  inflating: ./sample/Images/Carrots/253a686b8565937a.jpg  \n",
            "  inflating: ./sample/Images/Carrots/2594f1dca541ed77.jpg  \n",
            "  inflating: ./sample/Images/Carrots/26174c905eb0ee3d.jpg  \n",
            "  inflating: ./sample/Images/Carrots/28c0f5ceef31db17.jpg  \n",
            "  inflating: ./sample/Images/Carrots/292e33ad70ca79e6.jpg  \n",
            "  inflating: ./sample/Images/Carrots/295a1af1cb3c9caf.jpg  \n",
            "  inflating: ./sample/Images/Carrots/2a2c9bc74cb89bbc.jpg  \n",
            "  inflating: ./sample/Images/Carrots/2e7f19d09d95b12d.jpg  \n",
            "  inflating: ./sample/Images/Carrots/301c26bd1730e0f1.jpg  \n",
            "  inflating: ./sample/Images/Carrots/36c75e9dbd9143a2.jpg  \n",
            "  inflating: ./sample/Images/Carrots/3bbeae72412d690e.jpg  \n",
            "  inflating: ./sample/Images/Carrots/3c957e85dbcf11ec.jpg  \n",
            "  inflating: ./sample/Images/Carrots/3cdc969dddc3bb06.jpg  \n",
            "  inflating: ./sample/Images/Carrots/40b0b02ed6beac22.jpg  \n",
            "  inflating: ./sample/Images/Carrots/41655d74c3e35230.jpg  \n",
            "  inflating: ./sample/Images/Carrots/42d66443231bf963.jpg  \n",
            "  inflating: ./sample/Images/Carrots/438345d4fa6f28ed.jpg  \n",
            "  inflating: ./sample/Images/Carrots/4397b8bfb08868d9.jpg  \n",
            "  inflating: ./sample/Images/Carrots/4754c36cfca02f9d.jpg  \n",
            "  inflating: ./sample/Images/Carrots/4990e82cd005a1af.jpg  \n",
            "  inflating: ./sample/Images/Carrots/4c7fac559597e10f.jpg  \n",
            "  inflating: ./sample/Images/Carrots/4efd98b9dd6c7660.jpg  \n",
            "  inflating: ./sample/Images/Carrots/4f9fe26bbf8ab963.jpg  \n",
            "  inflating: ./sample/Images/Carrots/51eccd06672fed12.jpg  \n",
            "  inflating: ./sample/Images/Carrots/54343cd684173d44.jpg  \n",
            "  inflating: ./sample/Images/Carrots/55058cfc73fa4c4e.jpg  \n",
            "  inflating: ./sample/Images/Carrots/571d21c9eb8029f0.jpg  \n",
            "  inflating: ./sample/Images/Carrots/5911f0f6c6157f2c.jpg  \n",
            "  inflating: ./sample/Images/Carrots/5a29d19343673463.jpg  \n",
            "  inflating: ./sample/Images/Carrots/5a70226976b7bca1.jpg  \n",
            "  inflating: ./sample/Images/Carrots/5b28d21f853379b5.jpg  \n",
            "  inflating: ./sample/Images/Carrots/5f9df10dd8085bbb.jpg  \n",
            "  inflating: ./sample/Images/Carrots/615640685695427e.jpg  \n",
            "  inflating: ./sample/Images/Carrots/6421c68d4c15343d.jpg  \n",
            "  inflating: ./sample/Images/Carrots/6475e55c36568df4.jpg  \n",
            "  inflating: ./sample/Images/Carrots/6aa5c65f55f7214c.jpg  \n",
            "  inflating: ./sample/Images/Carrots/6afef7e05747383c.jpg  \n",
            "  inflating: ./sample/Images/Carrots/6b4cdbf933c62f09.jpg  \n",
            "  inflating: ./sample/Images/Carrots/6d0188c93c5ad298.jpg  \n",
            "  inflating: ./sample/Images/Carrots/7055ce5318aba7b8.jpg  \n",
            "  inflating: ./sample/Images/Carrots/7592b44a8c8e4439.jpg  \n",
            "  inflating: ./sample/Images/Carrots/764a7fbe9cc710f0.jpg  \n",
            "  inflating: ./sample/Images/Carrots/77ac2259ed991223.jpg  \n",
            "  inflating: ./sample/Images/Carrots/7a4d918de5bc93ce.jpg  \n",
            "  inflating: ./sample/Images/Carrots/7d3c50ed174897f8.jpg  \n",
            "  inflating: ./sample/Images/Carrots/7d69ef9045135b3a.jpg  \n",
            "  inflating: ./sample/Images/Carrots/7e53d7e586879294.jpg  \n",
            "  inflating: ./sample/Images/Carrots/7ebd567fb7a03401.jpg  \n",
            "  inflating: ./sample/Images/Carrots/7f8aea60f301a831.jpg  \n",
            "  inflating: ./sample/Images/Carrots/80c8e638d3a0acbf.jpg  \n",
            "  inflating: ./sample/Images/Carrots/8378302fcf867b53.jpg  \n",
            "  inflating: ./sample/Images/Carrots/845ca1f696a564db.jpg  \n",
            "  inflating: ./sample/Images/Carrots/86c3fbd2a2108e57.jpg  \n",
            "  inflating: ./sample/Images/Carrots/89ded8f8d1bd68c0.jpg  \n",
            "  inflating: ./sample/Images/Carrots/8b70a2324b799bb8.jpg  \n",
            "  inflating: ./sample/Images/Carrots/8ba4d17cad3eb32b.jpg  \n",
            "  inflating: ./sample/Images/Carrots/906ff6280ace60d8.jpg  \n",
            "  inflating: ./sample/Images/Carrots/92995b452fbd215a.jpg  \n",
            "  inflating: ./sample/Images/Carrots/92f4351e25b4929f.jpg  \n",
            "  inflating: ./sample/Images/Carrots/93fcb43a34763b45.jpg  \n",
            "  inflating: ./sample/Images/Carrots/9c531f157a57485c.jpg  \n",
            "  inflating: ./sample/Images/Carrots/9e21fdc7391bb404.jpg  \n",
            "  inflating: ./sample/Images/Carrots/9f923b4d495f2fc8.jpg  \n",
            "  inflating: ./sample/Images/Carrots/a5a6cbc224354b23.jpg  \n",
            "  inflating: ./sample/Images/Carrots/aa64f18b21e041b3.jpg  \n",
            "  inflating: ./sample/Images/Carrots/ad180069b277af51.jpg  \n",
            "  inflating: ./sample/Images/Carrots/ae7640301001e602.jpg  \n",
            "  inflating: ./sample/Images/Carrots/afad8676213f013f.jpg  \n",
            "  inflating: ./sample/Images/Carrots/b046d0c0981bf130.jpg  \n",
            "  inflating: ./sample/Images/Carrots/b2909f4d2a7f48d6.jpg  \n",
            "  inflating: ./sample/Images/Carrots/b64540b30ab5be01.jpg  \n",
            "  inflating: ./sample/Images/Carrots/b6f1de241f92d411.jpg  \n",
            "  inflating: ./sample/Images/Carrots/be761ed80b91a22a.jpg  \n",
            "  inflating: ./sample/Images/Carrots/c7a1df1d244fe740.jpg  \n",
            "  inflating: ./sample/Images/Carrots/c8a3b27503caee8e.jpg  \n",
            "  inflating: ./sample/Images/Carrots/cfddfa3e070d0af0.jpg  \n",
            "  inflating: ./sample/Images/Carrots/d2e834d5a52f3637.jpg  \n",
            "  inflating: ./sample/Images/Carrots/d5818606801fc035.jpg  \n",
            "  inflating: ./sample/Images/Carrots/d5c7f1db9a09cd5e.jpg  \n",
            "  inflating: ./sample/Images/Carrots/d94d580c1f80e492.jpg  \n",
            "  inflating: ./sample/Images/Carrots/d99f14e2c32bc048.jpg  \n",
            "  inflating: ./sample/Images/Carrots/e000917c2faad216.jpg  \n",
            "  inflating: ./sample/Images/Carrots/e234fd8310a1f8e8.jpg  \n",
            "  inflating: ./sample/Images/Carrots/e4ecdfa727e4db21.jpg  \n",
            "  inflating: ./sample/Images/Carrots/ea2618dbaccb267c.jpg  \n",
            "  inflating: ./sample/Images/Carrots/ec0319884477ee05.jpg  \n",
            "  inflating: ./sample/Images/Carrots/fcef74203dc9f79e.jpg  \n",
            "  inflating: ./sample/Images/Rockets/0007ff438786b5ff.jpg  \n",
            "  inflating: ./sample/Images/Rockets/0036699dd6df5d5a.jpg  \n",
            "  inflating: ./sample/Images/Rockets/003e6fd2238e91ab.jpg  \n",
            "  inflating: ./sample/Images/Rockets/00466abae6e548ed.jpg  \n",
            "  inflating: ./sample/Images/Rockets/0082cc1c4e13a6dc.jpg  \n",
            "  inflating: ./sample/Images/Rockets/0091ff1378152a94.jpg  \n",
            "  inflating: ./sample/Images/Rockets/00fda1675b94dbb4.jpg  \n",
            "  inflating: ./sample/Images/Rockets/01923ac9510d4c5f.jpg  \n",
            "  inflating: ./sample/Images/Rockets/01a4be33a9273c12.jpg  \n",
            "  inflating: ./sample/Images/Rockets/01d2e3cdf6db27ea.jpg  \n",
            "  inflating: ./sample/Images/Rockets/01fc8cf43d6e9276.jpg  \n",
            "  inflating: ./sample/Images/Rockets/0267bc68c624e9b9.jpg  \n",
            "  inflating: ./sample/Images/Rockets/027d122b234ed5cc.jpg  \n",
            "  inflating: ./sample/Images/Rockets/02eb2bced7f8b198.jpg  \n",
            "  inflating: ./sample/Images/Rockets/039d0c3533d14bcc.jpg  \n",
            "  inflating: ./sample/Images/Rockets/03a610d2501eaa8e.jpg  \n",
            "  inflating: ./sample/Images/Rockets/03b9f8d6af323494.jpg  \n",
            "  inflating: ./sample/Images/Rockets/0467cfaf0c80a02a.jpg  \n",
            "  inflating: ./sample/Images/Rockets/04a6002dff2e8971.jpg  \n",
            "  inflating: ./sample/Images/Rockets/05a183fef763727e.jpg  \n",
            "  inflating: ./sample/Images/Rockets/06069f7898a74cd5.jpg  \n",
            "  inflating: ./sample/Images/Rockets/065d7349b6cc2d8b.jpg  \n",
            "  inflating: ./sample/Images/Rockets/07142bbb5532d2dc.jpg  \n",
            "  inflating: ./sample/Images/Rockets/07cad7018cd03bf1.jpg  \n",
            "  inflating: ./sample/Images/Rockets/0937888f7614d47b.jpg  \n",
            "  inflating: ./sample/Images/Rockets/09c91bdf782b7db9.jpg  \n",
            "  inflating: ./sample/Images/Rockets/0a5465a362a84f8d.jpg  \n",
            "  inflating: ./sample/Images/Rockets/0a783bb3ea2acb76.jpg  \n",
            "  inflating: ./sample/Images/Rockets/0c43ca8f6be15219.jpg  \n",
            "  inflating: ./sample/Images/Rockets/0c7d50e7c83d5fa9.jpg  \n",
            "  inflating: ./sample/Images/Rockets/0df4d023850c6b8a.jpg  \n",
            "  inflating: ./sample/Images/Rockets/0e8760ac94230f43.jpg  \n",
            "  inflating: ./sample/Images/Rockets/1015d0c33db05ba4.jpg  \n",
            "  inflating: ./sample/Images/Rockets/1069f6cc652f0d0e.jpg  \n",
            "  inflating: ./sample/Images/Rockets/108bd14dbc0aaa95.jpg  \n",
            "  inflating: ./sample/Images/Rockets/10f814c2de90f338.jpg  \n",
            "  inflating: ./sample/Images/Rockets/12a049e166f7d1b2.jpg  \n",
            "  inflating: ./sample/Images/Rockets/1447e353450e2f2a.jpg  \n",
            "  inflating: ./sample/Images/Rockets/1722085b87cef0b1.jpg  \n",
            "  inflating: ./sample/Images/Rockets/183f98215b9886d2.jpg  \n",
            "  inflating: ./sample/Images/Rockets/1a2317716a8d59db.jpg  \n",
            "  inflating: ./sample/Images/Rockets/1bedaa5076061901.jpg  \n",
            "  inflating: ./sample/Images/Rockets/1cd01f8c179c076f.jpg  \n",
            "  inflating: ./sample/Images/Rockets/1ed6b83b168a8f6e.jpg  \n",
            "  inflating: ./sample/Images/Rockets/1f8d4c050b53358b.jpg  \n",
            "  inflating: ./sample/Images/Rockets/1ff623c43ec7e4c6.jpg  \n",
            "  inflating: ./sample/Images/Rockets/2019a47c5deb7fb4.jpg  \n",
            "  inflating: ./sample/Images/Rockets/202a56b21487ede4.jpg  \n",
            "  inflating: ./sample/Images/Rockets/206d4fb297bb56b1.jpg  \n",
            "  inflating: ./sample/Images/Rockets/220ebb384932b606.jpg  \n",
            "  inflating: ./sample/Images/Rockets/224bd4e3a44b73bc.jpg  \n",
            "  inflating: ./sample/Images/Rockets/24aebe160a69896d.jpg  \n",
            "  inflating: ./sample/Images/Rockets/2518744168921cfc.jpg  \n",
            "  inflating: ./sample/Images/Rockets/2596c9892f2807b9.jpg  \n",
            "  inflating: ./sample/Images/Rockets/2624dd287c1b3a1b.jpg  \n",
            "  inflating: ./sample/Images/Rockets/26d1f1edceea27b6.jpg  \n",
            "  inflating: ./sample/Images/Rockets/26d8330cf4b9baa6.jpg  \n",
            "  inflating: ./sample/Images/Rockets/27dbe3407fde1b1e.jpg  \n",
            "  inflating: ./sample/Images/Rockets/282b94db5c3b08cb.jpg  \n",
            "  inflating: ./sample/Images/Rockets/284e6d66ee864fe2.jpg  \n",
            "  inflating: ./sample/Images/Rockets/28b99d1063eba239.jpg  \n",
            "  inflating: ./sample/Images/Rockets/29c0cd819e327997.jpg  \n",
            "  inflating: ./sample/Images/Rockets/2a3dc62b77aefa76.jpg  \n",
            "  inflating: ./sample/Images/Rockets/2bbfb8b34f76f702.jpg  \n",
            "  inflating: ./sample/Images/Rockets/2de5b236e1ace162.jpg  \n",
            "  inflating: ./sample/Images/Rockets/2df0544a8fe1cacf.jpg  \n",
            "  inflating: ./sample/Images/Rockets/31429729133394d7.jpg  \n",
            "  inflating: ./sample/Images/Rockets/31bfe96b08763399.jpg  \n",
            "  inflating: ./sample/Images/Rockets/325461de21f3fa96.jpg  \n",
            "  inflating: ./sample/Images/Rockets/341b7700ca0e2d1c.jpg  \n",
            "  inflating: ./sample/Images/Rockets/34208b21ccb7947a.jpg  \n",
            "  inflating: ./sample/Images/Rockets/356599e7ec458d13.jpg  \n",
            "  inflating: ./sample/Images/Rockets/3baa941a5792e274.jpg  \n",
            "  inflating: ./sample/Images/Rockets/3c66e1dfd3bd4366.jpg  \n",
            "  inflating: ./sample/Images/Rockets/3d26977bddb7ce67.jpg  \n",
            "  inflating: ./sample/Images/Rockets/3d72aa32bcc4ed87.jpg  \n",
            "  inflating: ./sample/Images/Rockets/3ec6c8bdcf04607e.jpg  \n",
            "  inflating: ./sample/Images/Rockets/41533fc770450a11.jpg  \n",
            "  inflating: ./sample/Images/Rockets/4489ba6c734c6ee3.jpg  \n",
            "  inflating: ./sample/Images/Rockets/476ef053d47b2607.jpg  \n",
            "  inflating: ./sample/Images/Rockets/4785a590b1fdc8bb.jpg  \n",
            "  inflating: ./sample/Images/Rockets/47e0868540d2e106.jpg  \n",
            "  inflating: ./sample/Images/Rockets/497161544f8baf12.jpg  \n",
            "  inflating: ./sample/Images/Rockets/4eb47c1f51b719b6.jpg  \n",
            "  inflating: ./sample/Images/Rockets/56a935c0ce24e09d.jpg  \n",
            "  inflating: ./sample/Images/Rockets/57aab753107fda26.jpg  \n",
            "  inflating: ./sample/Images/Rockets/594ad6034b83c7ae.jpg  \n",
            "  inflating: ./sample/Images/Rockets/596d2e35e8882c69.jpg  \n",
            "  inflating: ./sample/Images/Rockets/5abd2b8459837e5f.jpg  \n",
            "  inflating: ./sample/Images/Rockets/5cc2e72db0c25c7f.jpg  \n",
            "  inflating: ./sample/Images/Rockets/5eab4e537f0696a4.jpg  \n",
            "  inflating: ./sample/Images/Rockets/5f4ab7a887e8367b.jpg  \n",
            "  inflating: ./sample/Images/Rockets/6163c066d920e0b5.jpg  \n",
            "  inflating: ./sample/Images/Rockets/6528d55b59da9cdc.jpg  \n",
            "  inflating: ./sample/Images/Rockets/65758a984b1b2e2a.jpg  \n",
            "  inflating: ./sample/Images/Rockets/65ab2ab3a64189b7.jpg  \n",
            "  inflating: ./sample/Images/Rockets/65f8386525acc5f0.jpg  \n",
            "  inflating: ./sample/Images/Rockets/67c69893311cdb34.jpg  \n",
            "  inflating: ./sample/Images/Rockets/6932e348c1569a7a.jpg  \n",
            "  inflating: ./sample/Images/Rockets/698616e9d8a7c142.jpg  \n",
            "  inflating: ./sample/Images/Rockets/6aca92f6a19f44fe.jpg  \n",
            "  inflating: ./sample/Images/Rockets/6e6c6931a124b06f.jpg  \n",
            "  inflating: ./sample/Images/Rockets/6f9977428834e089.jpg  \n",
            "  inflating: ./sample/Images/Rockets/727d0f2eed3136b2.jpg  \n",
            "  inflating: ./sample/Images/Rockets/72d1bc2ca95f771f.jpg  \n",
            "  inflating: ./sample/Images/Rockets/73866974f654af99.jpg  \n",
            "  inflating: ./sample/Images/Rockets/73f39cc6160b69f4.jpg  \n",
            "  inflating: ./sample/Images/Rockets/7405b814e7f2f727.jpg  \n",
            "  inflating: ./sample/Images/Rockets/77421fb53fa12569.jpg  \n",
            "  inflating: ./sample/Images/Rockets/79e4961693da4d08.jpg  \n",
            "  inflating: ./sample/Images/Rockets/7a30fe22ea2ebe8f.jpg  \n",
            "  inflating: ./sample/Images/Rockets/7ac7cf646c463b71.jpg  \n",
            "  inflating: ./sample/Images/Rockets/7f34c87577d048f4.jpg  \n",
            "  inflating: ./sample/Images/Rockets/7f45cb2af8edd00a.jpg  \n",
            "  inflating: ./sample/Images/Rockets/8088bbffab49f83b.jpg  \n",
            "  inflating: ./sample/Images/Rockets/80f8da01a2508690.jpg  \n",
            "  inflating: ./sample/Images/Rockets/819e5a1a00e7862a.jpg  \n",
            "  inflating: ./sample/Images/Rockets/82d354f80898edf0.jpg  \n",
            "  inflating: ./sample/Images/Rockets/85c1b913502df40e.jpg  \n",
            "  inflating: ./sample/Images/Rockets/861988f3fe687e6b.jpg  \n",
            "  inflating: ./sample/Images/Rockets/8686aeb306fe6e55.jpg  \n",
            "  inflating: ./sample/Images/Rockets/8aa980486e51a414.jpg  \n",
            "  inflating: ./sample/Images/Rockets/9c2a3a4f8582c517.jpg  \n",
            "  inflating: ./sample/Images/Rockets/a296846f884eff56.jpg  \n",
            "  inflating: ./sample/Images/Rockets/a6c3dae1394e5fa6.jpg  \n",
            "  inflating: ./sample/Images/Rockets/a6d23785c7ccd105.jpg  \n",
            "  inflating: ./sample/Images/Rockets/a91dc0efc0710361.jpg  \n",
            "  inflating: ./sample/Images/Rockets/a981146520be3206.jpg  \n",
            "  inflating: ./sample/Images/Rockets/aa93af563085d081.jpg  \n",
            "  inflating: ./sample/Images/Rockets/abca9006e91f7527.jpg  \n",
            "  inflating: ./sample/Images/Rockets/b52132bf7a6b1e45.jpg  \n",
            "  inflating: ./sample/Images/Rockets/b5cd7b9a66cee84e.jpg  \n",
            "  inflating: ./sample/Images/Rockets/b61f0673d388b770.jpg  \n",
            "  inflating: ./sample/Images/Rockets/b8b17e8360ad25c4.jpg  \n",
            "  inflating: ./sample/Images/Rockets/bae578b36faa1641.jpg  \n",
            "  inflating: ./sample/Images/Rockets/c05fe073cd6bf828.jpg  \n",
            "  inflating: ./sample/Images/Rockets/c07a5edc482ddf67.jpg  \n",
            "  inflating: ./sample/Images/Rockets/c0c7bb3849ec9a2f.jpg  \n",
            "  inflating: ./sample/Images/Rockets/c176c1a473473355.jpg  \n",
            "  inflating: ./sample/Images/Rockets/c1deca188b60dacf.jpg  \n",
            "  inflating: ./sample/Images/Rockets/c1dfbbffe4b8191f.jpg  \n",
            "  inflating: ./sample/Images/Rockets/c563ed7e61fb8c97.jpg  \n",
            "  inflating: ./sample/Images/Rockets/c6627a11bc3ddb91.jpg  \n",
            "  inflating: ./sample/Images/Rockets/cd4de1eb5659754a.jpg  \n",
            "  inflating: ./sample/Images/Rockets/ce72150e6383de8f.jpg  \n",
            "  inflating: ./sample/Images/Rockets/d03ec59f33adefed.jpg  \n",
            "  inflating: ./sample/Images/Rockets/d2093a096edc7461.jpg  \n",
            "  inflating: ./sample/Images/Rockets/d2a9359d7278808e.jpg  \n",
            "  inflating: ./sample/Images/Rockets/d2d9fe00a8befcd4.jpg  \n",
            "  inflating: ./sample/Images/Rockets/d3664bc3c2843853.jpg  \n",
            "  inflating: ./sample/Images/Rockets/e1a1668e7d766253.jpg  \n",
            "  inflating: ./sample/Images/Rockets/e52a57c63c8cad95.jpg  \n",
            "  inflating: ./sample/Images/Rockets/e56a8348a2596b77.jpg  \n",
            "  inflating: ./sample/Images/Rockets/e9f4332aec85523c.jpg  \n",
            "  inflating: ./sample/Images/Rockets/eb4e448085e9d4d0.jpg  \n",
            "  inflating: ./sample/Images/Rockets/ee02b89e7c2cf26f.jpg  \n",
            "  inflating: ./sample/Images/Rockets/ef1f80df43d9ab4f.jpg  \n",
            "  inflating: ./sample/Images/Rockets/f20a6b1e60fc7de3.jpg  \n",
            "  inflating: ./sample/Images/Rockets/f44230945742adf2.jpg  \n",
            "  inflating: ./sample/Images/Rockets/f8151345f5ef3cc0.jpg  \n",
            "  inflating: ./sample/Images/Rockets/f9e5d9b5fbc4a56b.jpg  \n",
            "  inflating: ./sample/Images/Rockets/fed1d3664469764e.jpg  \n"
          ]
        }
      ]
    },
    {
      "cell_type": "code",
      "source": [
        "import tensorflow as tf\n",
        "from tensorflow.keras import layers, models, optimizers\n",
        "from tensorflow.keras.preprocessing.image import ImageDataGenerator\n",
        "from tensorflow.keras.callbacks import EarlyStopping\n",
        "from sklearn.model_selection import train_test_split\n",
        "import os\n",
        "import shutil\n",
        "import numpy as np\n",
        "import cv2"
      ],
      "metadata": {
        "id": "My_RA3gfFIFt"
      },
      "execution_count": 33,
      "outputs": []
    },
    {
      "cell_type": "markdown",
      "source": [
        "데이터를 분리하기 위해서 데이터가 들어있는 경로를 저장합니다."
      ],
      "metadata": {
        "id": "qvBOcrUNHxGs"
      }
    },
    {
      "cell_type": "code",
      "source": [
        "dataPath = './sample/Images'\n",
        "carrotsPath = os.path.join(dataPath, 'Carrots')\n",
        "rocketsPath = os.path.join(dataPath, 'Rockets')"
      ],
      "metadata": {
        "id": "PWpgwFVJHvHf"
      },
      "execution_count": 34,
      "outputs": []
    },
    {
      "cell_type": "markdown",
      "source": [
        "이미지 데이터를 불러옵니다."
      ],
      "metadata": {
        "id": "QijuyXxkQaLb"
      }
    },
    {
      "cell_type": "code",
      "source": [
        "#저장할 리스트들을 가져옵니다.\n",
        "images = []\n",
        "labels = []"
      ],
      "metadata": {
        "id": "81oVTW-oQWiZ"
      },
      "execution_count": 35,
      "outputs": []
    },
    {
      "cell_type": "code",
      "source": [
        "# 당근 이미지들을 불러옵니다.\n",
        "for filename in os.listdir(carrotsPath):\n",
        "      img = cv2.imread(os.path.join(carrotsPath, filename))# 각 사진들의 경로를 저장합니다.\n",
        "      img = cv2.resize(img, (150, 150))  # 모든 이미지의 사이즈를 통일시킵니다\n",
        "      images.append(img) #작업이 완료된 이미지들을 기존에 지정한 리스트에 저장합니다.\n",
        "      labels.append(0) # 레이블을 지정합니다."
      ],
      "metadata": {
        "id": "199VrPIQYTCT"
      },
      "execution_count": 36,
      "outputs": []
    },
    {
      "cell_type": "code",
      "source": [
        "# 로켓 이미지들도 동일한 과정을 거쳐서  불러옵니다.\n",
        "for filename in os.listdir(rocketsPath):\n",
        "      img = cv2.imread(os.path.join(rocketsPath, filename))\n",
        "      img = cv2.resize(img, (150, 150))\n",
        "      images.append(img)\n",
        "      labels.append(1)"
      ],
      "metadata": {
        "id": "yawPkVpVZsxf"
      },
      "execution_count": 37,
      "outputs": []
    },
    {
      "cell_type": "markdown",
      "source": [
        "연산이 무겁지 않게 하기 위해서 numpy array로 변경합니다."
      ],
      "metadata": {
        "id": "VqsUQyiccrv3"
      }
    },
    {
      "cell_type": "code",
      "source": [
        "images = np.array(images) #이 데이터의 형태는 150x150x3(RGB) 입니다.\n",
        "labels = np.array(labels)"
      ],
      "metadata": {
        "id": "undRd8kOc_bu"
      },
      "execution_count": 38,
      "outputs": []
    },
    {
      "cell_type": "markdown",
      "source": [
        "train data를 80% validation data를 20% test data를 10%로 나눕니다."
      ],
      "metadata": {
        "id": "th4at6pMeED4"
      }
    },
    {
      "cell_type": "code",
      "source": [
        "xTrain, xTemp, yTrain, yTemp = train_test_split(images, labels, test_size=0.3, random_state=42)\n",
        "xVal, xTest, yVal, yTest, = train_test_split(xTemp, yTemp, test_size=0.33, random_state=42)"
      ],
      "metadata": {
        "id": "g4N49_eHdPom"
      },
      "execution_count": 46,
      "outputs": []
    },
    {
      "cell_type": "markdown",
      "source": [
        "CNN은 Augmentation을 반영하지 못하므로 임의로 변형시켜서 데이터 셋에 추가합니다."
      ],
      "metadata": {
        "id": "uaEa7FK4qzYR"
      }
    },
    {
      "cell_type": "code",
      "source": [
        "train_datagen = ImageDataGenerator(\n",
        "    rescale=1./255, # train data의 Normalization을 수행합니다.\n",
        "    rotation_range=40,\n",
        "    width_shift_range=0.2,\n",
        "    height_shift_range=0.2,\n",
        "    shear_range=0.2,\n",
        "    zoom_range=0.2,\n",
        "    horizontal_flip=True,\n",
        ")\n",
        "\n",
        "# validation과  test는 실제 상황을 반영해야하므로 Augmentation을 적용해서는 안됩니다.\n",
        "val_datagen = ImageDataGenerator(rescale=1./255)\n",
        "\n",
        "train_generator = train_datagen.flow(xTrain, yTrain, batch_size=32)\n",
        "val_generator = val_datagen.flow(xVal, yVal, batch_size=32)"
      ],
      "metadata": {
        "id": "2EgwuXy0rOFi"
      },
      "execution_count": 54,
      "outputs": []
    },
    {
      "cell_type": "markdown",
      "source": [
        "CNN모델의 구조를 결정합니다."
      ],
      "metadata": {
        "id": "RhX6TblPetry"
      }
    },
    {
      "cell_type": "code",
      "source": [
        "# 굳이 커널의 개수를 2의 제곱꼴로 설정하는것은 컴퓨터의 메모리 할당방식과 일치시키 위해서입니다.\n",
        "\n",
        "model = models.Sequential([\n",
        "    layers.Conv2D(64, (3, 3), activation='relu', input_shape=(150, 150, 3)),\n",
        "    layers.MaxPooling2D((2, 2)),\n",
        "    layers.Conv2D(128, (3, 3), activation='relu'),\n",
        "    layers.MaxPooling2D((2, 2)),\n",
        "    layers.Conv2D(256, (3, 3), activation='relu'),\n",
        "    layers.MaxPooling2D((2, 2)),\n",
        "    layers.Flatten(),\n",
        "    layers.Dense(512, activation='relu'), # FC layer 구현\n",
        "    layers.Dense(1, activation='sigmoid')\n",
        "])"
      ],
      "metadata": {
        "id": "jBM6R53zetLD"
      },
      "execution_count": 48,
      "outputs": []
    },
    {
      "cell_type": "markdown",
      "source": [
        "모델의 최적화 기법을 지정합니다."
      ],
      "metadata": {
        "id": "GrDPFMxrpEyo"
      }
    },
    {
      "cell_type": "code",
      "source": [
        "model.compile(loss='binary_crossentropy', # loss function을 정의합니다.\n",
        "              optimizer=optimizers.Adam(), # loss fuction의 최소값을 구하는 방법을 설정합니다\n",
        "              metrics=['accuracy']) # 잘 수행되는지 모니터링합니다.\n",
        "\n",
        "early_stop = EarlyStopping(monitor='val_loss', patience=5, restore_best_weights=True) # early stopping을 설정합니다."
      ],
      "metadata": {
        "id": "G_qjRluYpIQE"
      },
      "execution_count": 49,
      "outputs": []
    },
    {
      "cell_type": "markdown",
      "source": [
        "모델 학습을 시작합니다."
      ],
      "metadata": {
        "id": "og6hHUjpwiHJ"
      }
    },
    {
      "cell_type": "code",
      "source": [
        "history = model.fit(\n",
        "    train_generator,\n",
        "    steps_per_epoch=len(xTrain) // 32,\n",
        "    #steps_per_epoch는 에포크당 배치를 거쳐가는 횟수를 의미합니다.\n",
        "    #그러므로 이미지 샘플이 모든 훈련과정에서 한번씩 사용되기 위해서 배치 크기로 나눕니다.\n",
        "    epochs=30,\n",
        "    validation_data=val_generator,\n",
        "    validation_steps=len(xVal) // 32,\n",
        "    callbacks=[early_stop]\n",
        ")"
      ],
      "metadata": {
        "colab": {
          "base_uri": "https://localhost:8080/"
        },
        "id": "UjxMBxCfwiWi",
        "outputId": "086f6af3-d744-4fa1-b731-d4e85432f912"
      },
      "execution_count": 50,
      "outputs": [
        {
          "output_type": "stream",
          "name": "stdout",
          "text": [
            "Epoch 1/30\n",
            "6/6 [==============================] - 3s 219ms/step - loss: 2.2976 - accuracy: 0.5055 - val_loss: 0.8160 - val_accuracy: 0.5312\n",
            "Epoch 2/30\n",
            "6/6 [==============================] - 1s 207ms/step - loss: 0.6972 - accuracy: 0.6146 - val_loss: 0.6227 - val_accuracy: 0.5625\n",
            "Epoch 3/30\n",
            "6/6 [==============================] - 1s 199ms/step - loss: 0.5312 - accuracy: 0.7604 - val_loss: 0.4358 - val_accuracy: 0.9062\n",
            "Epoch 4/30\n",
            "6/6 [==============================] - 1s 193ms/step - loss: 0.3974 - accuracy: 0.8297 - val_loss: 0.4279 - val_accuracy: 0.8438\n",
            "Epoch 5/30\n",
            "6/6 [==============================] - 1s 155ms/step - loss: 0.3178 - accuracy: 0.8736 - val_loss: 0.4652 - val_accuracy: 0.7812\n",
            "Epoch 6/30\n",
            "6/6 [==============================] - 1s 198ms/step - loss: 0.3570 - accuracy: 0.8229 - val_loss: 0.2669 - val_accuracy: 0.8750\n",
            "Epoch 7/30\n",
            "6/6 [==============================] - 1s 168ms/step - loss: 0.3706 - accuracy: 0.8646 - val_loss: 0.4397 - val_accuracy: 0.8125\n",
            "Epoch 8/30\n",
            "6/6 [==============================] - 1s 154ms/step - loss: 0.3702 - accuracy: 0.8187 - val_loss: 0.3331 - val_accuracy: 0.8438\n",
            "Epoch 9/30\n",
            "6/6 [==============================] - 1s 191ms/step - loss: 0.2603 - accuracy: 0.9011 - val_loss: 0.1581 - val_accuracy: 0.9375\n",
            "Epoch 10/30\n",
            "6/6 [==============================] - 1s 163ms/step - loss: 0.3232 - accuracy: 0.8571 - val_loss: 0.3854 - val_accuracy: 0.7812\n",
            "Epoch 11/30\n",
            "6/6 [==============================] - 1s 159ms/step - loss: 0.2339 - accuracy: 0.9176 - val_loss: 0.2779 - val_accuracy: 0.8125\n",
            "Epoch 12/30\n",
            "6/6 [==============================] - 1s 158ms/step - loss: 0.1802 - accuracy: 0.9396 - val_loss: 0.3088 - val_accuracy: 0.9062\n",
            "Epoch 13/30\n",
            "6/6 [==============================] - 1s 158ms/step - loss: 0.2486 - accuracy: 0.9066 - val_loss: 0.2784 - val_accuracy: 0.8125\n",
            "Epoch 14/30\n",
            "6/6 [==============================] - 1s 215ms/step - loss: 0.2280 - accuracy: 0.9121 - val_loss: 0.2499 - val_accuracy: 0.8750\n"
          ]
        }
      ]
    },
    {
      "cell_type": "markdown",
      "source": [
        "모델을 테스트에 적용시켜서 평가해봅시다."
      ],
      "metadata": {
        "id": "JIdpl0I6wqO_"
      }
    },
    {
      "cell_type": "code",
      "source": [
        "testImages = xTest / 255.0 # Test Image에 대한 normalization을 수행합니다.\n",
        "\n",
        "test_loss, test_accuracy = model.evaluate(testImages, yTest, verbose=2) # 정확도를 계산합니다.\n",
        "print(f\"\\nTest accuracy: {test_accuracy*100:.2f}%\")"
      ],
      "metadata": {
        "colab": {
          "base_uri": "https://localhost:8080/"
        },
        "id": "0KQWn9f3wqgg",
        "outputId": "73255a44-43f3-4a2d-9d19-79062981c6c0"
      },
      "execution_count": 53,
      "outputs": [
        {
          "output_type": "stream",
          "name": "stdout",
          "text": [
            "1/1 - 0s - loss: 0.3078 - accuracy: 0.9355 - 42ms/epoch - 42ms/step\n",
            "\n",
            "Test accuracy: 93.55%\n"
          ]
        }
      ]
    },
    {
      "cell_type": "markdown",
      "source": [
        "추가로  ROC 커브도 그려보았습니다."
      ],
      "metadata": {
        "id": "-Y8sNX4J11lu"
      }
    },
    {
      "cell_type": "code",
      "source": [
        "import numpy as np\n",
        "from sklearn.metrics import confusion_matrix, classification_report, roc_curve, auc\n",
        "import matplotlib.pyplot as plt\n",
        "\n",
        "y_pred_prob = model.predict(testImages)\n",
        "y_pred = np.round(y_pred_prob).astype(int)\n",
        "\n",
        "fpr, tpr, thresholds = roc_curve(yTest, y_pred_prob)\n",
        "roc_auc = auc(fpr, tpr)\n",
        "plt.figure()\n",
        "plt.plot(fpr, tpr, color='darkorange', lw=2, label='ROC curve (area = %0.2f)' % roc_auc)\n",
        "plt.plot([0, 1], [0, 1], color='navy', lw=2, linestyle='--')\n",
        "plt.xlim([0.0, 1.0])\n",
        "plt.ylim([0.0, 1.05])\n",
        "plt.xlabel('False Positive Rate')\n",
        "plt.ylabel('True Positive Rate')\n",
        "plt.title('Receiver Operating Characteristic')\n",
        "plt.legend(loc=\"lower right\")\n",
        "plt.show()"
      ],
      "metadata": {
        "colab": {
          "base_uri": "https://localhost:8080/",
          "height": 490
        },
        "id": "2oI61xCi1E5N",
        "outputId": "9200d699-40d9-426e-8a94-80895a168108"
      },
      "execution_count": 52,
      "outputs": [
        {
          "output_type": "stream",
          "name": "stdout",
          "text": [
            "1/1 [==============================] - 0s 82ms/step\n"
          ]
        },
        {
          "output_type": "display_data",
          "data": {
            "text/plain": [
              "<Figure size 640x480 with 1 Axes>"
            ],
            "image/png": "[encoded data removed]"
          },
          "metadata": {}
        }
      ]
    }
  ]
}
