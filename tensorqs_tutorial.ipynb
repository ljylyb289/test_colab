{
  "cells": [
    {
      "cell_type": "markdown",
      "metadata": {
        "id": "view-in-github",
        "colab_type": "text"
      },
      "source": [
        "<a href=\"https://colab.research.google.com/github/oilportrait/test_colab/blob/main/tensorqs_tutorial.ipynb\" target=\"_parent\"><img src=\"https://colab.research.google.com/assets/colab-badge.svg\" alt=\"Open In Colab\"/></a>"
      ]
    },
    {
      "cell_type": "code",
      "execution_count": null,
      "metadata": {
        "id": "DtIhZ73TJWZ_"
      },
      "outputs": [],
      "source": [
        "# Google Colab에서 노트북을 실행하실 때에는\n",
        "# https://tutorials.pytorch.kr/beginner/colab 를 참고하세요.\n",
        "%matplotlib inline"
      ]
    },
    {
      "cell_type": "markdown",
      "metadata": {
        "id": "vq_WfGLzJWaD"
      },
      "source": [
        "\n",
        "[파이토치(PyTorch) 기본 익히기](intro.html) ||\n",
        "[빠른 시작](quickstart_tutorial.html) ||\n",
        "**텐서(Tensor)** ||\n",
        "[Dataset과 Dataloader](data_tutorial.html) ||\n",
        "[변형(Transform)](transforms_tutorial.html) ||\n",
        "[신경망 모델 구성하기](buildmodel_tutorial.html) ||\n",
        "[Autograd](autogradqs_tutorial.html) ||\n",
        "[최적화(Optimization)](optimization_tutorial.html) ||\n",
        "[모델 저장하고 불러오기](saveloadrun_tutorial.html)\n",
        "\n",
        "# 텐서(Tensor)\n",
        "\n",
        "텐서(tensor)는 배열(array)이나 행렬(matrix)과 매우 유사한 특수한 자료구조입니다.\n",
        "PyTorch에서는 텐서를 사용하여 모델의 입력(input)과 출력(output), 그리고 모델의 매개변수들을 부호화(encode)합니다.\n",
        "\n",
        "텐서는 GPU나 다른 하드웨어 가속기에서 실행할 수 있다는 점만 제외하면 [NumPy](https://numpy.org) 의 ndarray와 유사합니다.\n",
        "실제로 텐서와 NumPy 배열(array)은 종종 동일한 내부(underly) 메모리를 공유할 수 있어 데이터를 복사할 필요가 없습니다. (`bridge-to-np-label` 참고)\n",
        "텐서는 또한 ([Autograd](autogradqs_tutorial.html)_ 장에서 살펴볼) 자동 미분(automatic differentiation)에 최적화되어 있습니다.\n",
        "ndarray에 익숙하다면 Tensor API를 바로 사용할 수 있을 것입니다. 아니라면, 아래 내용을 함께 보시죠!\n"
      ]
    },
    {
      "cell_type": "code",
      "execution_count": null,
      "metadata": {
        "id": "snKoVsC4JWaE"
      },
      "outputs": [],
      "source": [
        "import torch\n",
        "import numpy as np"
      ]
    },
    {
      "cell_type": "markdown",
      "metadata": {
        "id": "3SZMUydhJWaF"
      },
      "source": [
        "## 텐서(tensor) 초기화\n",
        "\n",
        "텐서는 여러가지 방법으로 초기화할 수 있습니다. 다음 예를 살펴보세요:\n",
        "\n",
        "**데이터로부터 직접(directly) 생성하기**\n",
        "\n",
        "데이터로부터 직접 텐서를 생성할 수 있습니다. 데이터의 자료형(data type)은 자동으로 유추합니다.\n",
        "\n"
      ]
    },
    {
      "cell_type": "code",
      "execution_count": null,
      "metadata": {
        "id": "-uRqBbgiJWaG",
        "colab": {
          "base_uri": "https://localhost:8080/"
        },
        "outputId": "c3d5d232-21a0-4be6-b0be-5c91153b205c"
      },
      "outputs": [
        {
          "output_type": "execute_result",
          "data": {
            "text/plain": [
              "(list, torch.Tensor)"
            ]
          },
          "metadata": {},
          "execution_count": 7
        }
      ],
      "source": [
        "data = [[12, 15],[18, 21]] # 이곳 변형\n",
        "x_data = torch.tensor(data) # torch에 입력하면 형식이 바뀐다\n",
        "type(data), type(x_data)"
      ]
    },
    {
      "cell_type": "markdown",
      "metadata": {
        "id": "3qk0PF4lJWaG"
      },
      "source": [
        "**NumPy 배열로부터 생성하기**\n",
        "\n",
        "텐서는 NumPy 배열로 생성할 수 있습니다. (그 반대도 가능합니다 - `bridge-to-np-label` 참고)\n",
        "\n"
      ]
    },
    {
      "cell_type": "code",
      "execution_count": null,
      "metadata": {
        "id": "D00f99uiJWaG",
        "colab": {
          "base_uri": "https://localhost:8080/"
        },
        "outputId": "ade4ada5-6c09-4cc7-cbad-481a465886ef"
      },
      "outputs": [
        {
          "output_type": "execute_result",
          "data": {
            "text/plain": [
              "(numpy.ndarray, torch.Tensor, numpy.ndarray)"
            ]
          },
          "metadata": {},
          "execution_count": 8
        }
      ],
      "source": [
        "np_array = np.array(data)\n",
        "x_np = torch.from_numpy(np_array)\n",
        "\n",
        "type(np_array), type(x_np), type(x_np.numpy())"
      ]
    },
    {
      "cell_type": "markdown",
      "metadata": {
        "id": "QxaY2HshJWaH"
      },
      "source": [
        "**다른 텐서로부터 생성하기:**\n",
        "\n",
        "명시적으로 재정의(override)하지 않는다면, 인자로 주어진 텐서의 속성(모양(shape), 자료형(datatype))을 유지합니다.\n",
        "\n"
      ]
    },
    {
      "cell_type": "code",
      "execution_count": null,
      "metadata": {
        "id": "c8Xt1i4NJWaH",
        "colab": {
          "base_uri": "https://localhost:8080/"
        },
        "outputId": "d27f619a-ef90-42fa-f25d-5c4ab57a4708"
      },
      "outputs": [
        {
          "output_type": "stream",
          "name": "stdout",
          "text": [
            "Ones Tensor: \n",
            " tensor([[1, 1],\n",
            "        [1, 1]]) \n",
            "\n",
            "Random Tensor: \n",
            " tensor([[0.0977, 0.8858],\n",
            "        [0.9575, 0.9190]]) \n",
            "\n"
          ]
        }
      ],
      "source": [
        "x_ones = torch.ones_like(x_data) # x_data의 속성을 유지합니다.\n",
        "print(f\"Ones Tensor: \\n {x_ones} \\n\")\n",
        "\n",
        "x_rand = torch.rand_like(x_data, dtype=torch.float) # x_data의 속성을 덮어씁니다.\n",
        "print(f\"Random Tensor: \\n {x_rand} \\n\")"
      ]
    },
    {
      "cell_type": "code",
      "source": [
        "np.ones(x_data.shape), np.ones_like(x_data)"
      ],
      "metadata": {
        "colab": {
          "base_uri": "https://localhost:8080/"
        },
        "id": "uR8FP8gfMxOg",
        "outputId": "a9261b16-6ec1-445a-fc7e-842e0f52af3c"
      },
      "execution_count": null,
      "outputs": [
        {
          "output_type": "execute_result",
          "data": {
            "text/plain": [
              "(array([[1., 1.],\n",
              "        [1., 1.]]),\n",
              " array([[1, 1],\n",
              "        [1, 1]]))"
            ]
          },
          "metadata": {},
          "execution_count": 10
        }
      ]
    },
    {
      "cell_type": "markdown",
      "metadata": {
        "id": "CAY1gLTuJWaI"
      },
      "source": [
        "**무작위(random) 또는 상수(constant) 값을 사용하기:**\n",
        "\n",
        "``shape`` 은 텐서의 차원(dimension)을 나타내는 튜플(tuple)로, 아래 함수들에서는 출력 텐서의 차원을 결정합니다.\n",
        "\n"
      ]
    },
    {
      "cell_type": "code",
      "execution_count": null,
      "metadata": {
        "id": "P6MZ_ywgJWaI",
        "colab": {
          "base_uri": "https://localhost:8080/"
        },
        "outputId": "1e3249f7-0f68-499f-aa83-7ebd1f352af3"
      },
      "outputs": [
        {
          "output_type": "stream",
          "name": "stdout",
          "text": [
            "Random Tensor: \n",
            " tensor([[0.5118, 0.9153, 0.8249],\n",
            "        [0.4100, 0.1062, 0.3361],\n",
            "        [0.5766, 0.8075, 0.6059],\n",
            "        [0.0144, 0.5971, 0.2913]]) \n",
            "\n",
            "Ones Tensor: \n",
            " tensor([[1., 1., 1.],\n",
            "        [1., 1., 1.],\n",
            "        [1., 1., 1.],\n",
            "        [1., 1., 1.]]) \n",
            "\n",
            "Zeros Tensor: \n",
            " tensor([[0., 0., 0.],\n",
            "        [0., 0., 0.],\n",
            "        [0., 0., 0.],\n",
            "        [0., 0., 0.]])\n"
          ]
        },
        {
          "output_type": "execute_result",
          "data": {
            "text/plain": [
              "(torch.Size([4, 3]), torch.Size([4, 3]), torch.Size([4, 3]))"
            ]
          },
          "metadata": {},
          "execution_count": 11
        }
      ],
      "source": [
        "shape = (4,3,) # 이곳 변경\n",
        "rand_tensor = torch.rand(shape)\n",
        "ones_tensor = torch.ones(shape)\n",
        "zeros_tensor = torch.zeros(shape)\n",
        "\n",
        "print(f\"Random Tensor: \\n {rand_tensor} \\n\")\n",
        "print(f\"Ones Tensor: \\n {ones_tensor} \\n\")\n",
        "print(f\"Zeros Tensor: \\n {zeros_tensor}\")\n",
        "rand_tensor.shape, ones_tensor.shape, zeros_tensor.shape"
      ]
    },
    {
      "cell_type": "markdown",
      "metadata": {
        "id": "lw2Ulr61JWaI"
      },
      "source": [
        "--------------\n",
        "\n",
        "\n"
      ]
    },
    {
      "cell_type": "markdown",
      "metadata": {
        "id": "E0eyQUJpJWaI"
      },
      "source": [
        "## 텐서의 속성(Attribute)\n",
        "\n",
        "텐서의 속성은 텐서의 모양(shape), 자료형(datatype) 및 어느 장치에 저장되는지를 나타냅니다.\n",
        "\n"
      ]
    },
    {
      "cell_type": "code",
      "execution_count": null,
      "metadata": {
        "id": "Rmc8jVmHJWaI",
        "colab": {
          "base_uri": "https://localhost:8080/"
        },
        "outputId": "77fad1f4-dda6-4405-f3b7-50fd550f58f9"
      },
      "outputs": [
        {
          "output_type": "stream",
          "name": "stdout",
          "text": [
            "Shape of tensor: torch.Size([5, 6])\n",
            "Datatype of tensor: torch.float32\n",
            "Device tensor is stored on: cpu\n"
          ]
        }
      ],
      "source": [
        "tensor = torch.rand(5,6)\n",
        "\n",
        "print(f\"Shape of tensor: {tensor.shape}\")\n",
        "print(f\"Datatype of tensor: {tensor.dtype}\")\n",
        "print(f\"Device tensor is stored on: {tensor.device}\")"
      ]
    },
    {
      "cell_type": "markdown",
      "metadata": {
        "id": "OSyfsNLdJWaJ"
      },
      "source": [
        "--------------\n",
        "\n",
        "\n"
      ]
    },
    {
      "cell_type": "markdown",
      "metadata": {
        "id": "Y4qo71zjJWaJ"
      },
      "source": [
        "## 텐서 연산(Operation)\n",
        "\n",
        "전치(transposing), 인덱싱(indexing), 슬라이싱(slicing), 수학 계산, 선형 대수,\n",
        "임의 샘플링(random sampling) 등, 100가지 이상의 텐서 연산들을\n",
        "[여기](https://pytorch.org/docs/stable/torch.html)_ 에서 확인할 수 있습니다.\n",
        "\n",
        "각 연산들은 (일반적으로 CPU보다 빠른) GPU에서 실행할 수 있습니다. Colab을 사용한다면,\n",
        "Edit > Notebook Settings 에서 GPU를 할당할 수 있습니다.\n",
        "\n",
        "기본적으로 텐서는 CPU에 생성됩니다. ``.to`` 메소드를 사용하면 (GPU의 가용성(availability)을 확인한 뒤)\n",
        "GPU로 텐서를 명시적으로 이동할 수 있습니다. 장치들 간에 큰 텐서들을 복사하는 것은 시간과 메모리 측면에서 비용이\n",
        "많이든다는 것을 기억하세요!\n",
        "\n"
      ]
    },
    {
      "cell_type": "code",
      "source": [
        "torch.cuda.is_available() # 현재 GPU가 사용 가능한가?"
      ],
      "metadata": {
        "colab": {
          "base_uri": "https://localhost:8080/"
        },
        "id": "yB7qo0vDOSpl",
        "outputId": "54a9a9be-3f56-4072-f50c-a7908d294707"
      },
      "execution_count": null,
      "outputs": [
        {
          "output_type": "execute_result",
          "data": {
            "text/plain": [
              "True"
            ]
          },
          "metadata": {},
          "execution_count": 13
        }
      ]
    },
    {
      "cell_type": "code",
      "execution_count": null,
      "metadata": {
        "id": "rfgMd4DwJWaJ"
      },
      "outputs": [],
      "source": [
        "# GPU가 존재하면 텐서를 이동합니다\n",
        "if torch.cuda.is_available():\n",
        "    tensor = tensor.to(\"cuda\")"
      ]
    },
    {
      "cell_type": "code",
      "source": [
        "tensor.device"
      ],
      "metadata": {
        "colab": {
          "base_uri": "https://localhost:8080/"
        },
        "id": "FKjWVXwkOgiS",
        "outputId": "961b68c1-4be1-4758-e29a-ce444e68281e"
      },
      "execution_count": null,
      "outputs": [
        {
          "output_type": "execute_result",
          "data": {
            "text/plain": [
              "device(type='cuda', index=0)"
            ]
          },
          "metadata": {},
          "execution_count": 15
        }
      ]
    },
    {
      "cell_type": "markdown",
      "metadata": {
        "id": "2UK5NmjjJWaJ"
      },
      "source": [
        "목록에서 몇몇 연산들을 시도해보세요.\n",
        "NumPy API에 익숙하다면 Tensor API를 사용하는 것은 식은 죽 먹기라는 것을 알게 되실 겁니다.\n",
        "\n",
        "\n"
      ]
    },
    {
      "cell_type": "markdown",
      "metadata": {
        "id": "5gYW1ciHJWaJ"
      },
      "source": [
        "**NumPy식의 표준 인덱싱과 슬라이싱:**\n",
        "\n"
      ]
    },
    {
      "cell_type": "code",
      "execution_count": null,
      "metadata": {
        "id": "NirsJUDBJWaJ",
        "colab": {
          "base_uri": "https://localhost:8080/"
        },
        "outputId": "40070345-8798-4ce4-9e21-bcc540412359"
      },
      "outputs": [
        {
          "output_type": "stream",
          "name": "stdout",
          "text": [
            "First row: tensor([1., 1., 1., 1., 1., 1., 1.])\n",
            "First column: tensor([1., 1., 1., 1., 1., 1., 1., 1.])\n",
            "Last column: tensor([1., 1., 1., 1., 1., 1., 1., 1.])\n",
            "tensor([[1., 1., 1., 0., 1., 1., 1.],\n",
            "        [1., 1., 1., 0., 1., 1., 1.],\n",
            "        [1., 1., 1., 0., 1., 1., 1.],\n",
            "        [1., 1., 1., 0., 1., 1., 1.],\n",
            "        [1., 1., 1., 0., 1., 1., 1.],\n",
            "        [1., 1., 1., 0., 1., 1., 1.],\n",
            "        [1., 1., 1., 0., 1., 1., 1.],\n",
            "        [1., 1., 1., 0., 1., 1., 1.]])\n"
          ]
        }
      ],
      "source": [
        "tensor = torch.ones(8, 7) # 이곳 변경\n",
        "print(f\"First row: {tensor[3]}\") #이곳 변경\n",
        "print(f\"First column: {tensor[:, 0]}\")\n",
        "print(f\"Last column: {tensor[..., -1]}\")\n",
        "tensor[:,3] = 0 # 이곳 변경\n",
        "print(tensor)"
      ]
    },
    {
      "cell_type": "markdown",
      "metadata": {
        "id": "ThMrWw3CJWaK"
      },
      "source": [
        "**텐서 합치기** ``torch.cat`` 을 사용하여 주어진 차원에 따라 일련의 텐서를 연결할 수 있습니다.\n",
        "``torch.cat`` 과 미묘하게 다른 또 다른 텐서 결합 연산인\n",
        "[torch.stack](https://pytorch.org/docs/stable/generated/torch.stack.html)_ 도 참고해보세요.\n",
        "\n"
      ]
    },
    {
      "cell_type": "code",
      "execution_count": null,
      "metadata": {
        "id": "fWshorsOJWaK",
        "colab": {
          "base_uri": "https://localhost:8080/"
        },
        "outputId": "28e4f569-c62b-40f4-fc24-fe7ddceed4c5"
      },
      "outputs": [
        {
          "output_type": "stream",
          "name": "stdout",
          "text": [
            "tensor([[1., 1., 1., 0., 1., 1., 1.],\n",
            "        [1., 1., 1., 0., 1., 1., 1.],\n",
            "        [1., 1., 1., 0., 1., 1., 1.],\n",
            "        [1., 1., 1., 0., 1., 1., 1.],\n",
            "        [1., 1., 1., 0., 1., 1., 1.],\n",
            "        [1., 1., 1., 0., 1., 1., 1.],\n",
            "        [1., 1., 1., 0., 1., 1., 1.],\n",
            "        [1., 1., 1., 0., 1., 1., 1.],\n",
            "        [1., 1., 1., 0., 1., 1., 1.],\n",
            "        [1., 1., 1., 0., 1., 1., 1.],\n",
            "        [1., 1., 1., 0., 1., 1., 1.],\n",
            "        [1., 1., 1., 0., 1., 1., 1.],\n",
            "        [1., 1., 1., 0., 1., 1., 1.],\n",
            "        [1., 1., 1., 0., 1., 1., 1.],\n",
            "        [1., 1., 1., 0., 1., 1., 1.],\n",
            "        [1., 1., 1., 0., 1., 1., 1.],\n",
            "        [1., 1., 1., 0., 1., 1., 1.],\n",
            "        [1., 1., 1., 0., 1., 1., 1.],\n",
            "        [1., 1., 1., 0., 1., 1., 1.],\n",
            "        [1., 1., 1., 0., 1., 1., 1.],\n",
            "        [1., 1., 1., 0., 1., 1., 1.],\n",
            "        [1., 1., 1., 0., 1., 1., 1.],\n",
            "        [1., 1., 1., 0., 1., 1., 1.],\n",
            "        [1., 1., 1., 0., 1., 1., 1.]])\n"
          ]
        }
      ],
      "source": [
        "t1 = torch.cat([tensor, tensor, tensor], dim=0) # 이곳 변경\n",
        "print(t1)"
      ]
    },
    {
      "cell_type": "code",
      "source": [
        "torch.vstack([tensor,tensor,tensor]).shape"
      ],
      "metadata": {
        "colab": {
          "base_uri": "https://localhost:8080/"
        },
        "id": "ydIYJf8sU9Qw",
        "outputId": "f5c05b8c-3ffb-4318-f9a9-806cab250b6c"
      },
      "execution_count": null,
      "outputs": [
        {
          "output_type": "execute_result",
          "data": {
            "text/plain": [
              "torch.Size([24, 7])"
            ]
          },
          "metadata": {},
          "execution_count": 18
        }
      ]
    },
    {
      "cell_type": "code",
      "source": [
        "torch.hstack([tensor,tensor,tensor]).shape"
      ],
      "metadata": {
        "colab": {
          "base_uri": "https://localhost:8080/"
        },
        "id": "cbvIL2WTVIzP",
        "outputId": "ba9ca957-7f9d-4029-ff45-e965f0a1a7d2"
      },
      "execution_count": null,
      "outputs": [
        {
          "output_type": "execute_result",
          "data": {
            "text/plain": [
              "torch.Size([8, 21])"
            ]
          },
          "metadata": {},
          "execution_count": 19
        }
      ]
    },
    {
      "cell_type": "markdown",
      "metadata": {
        "id": "wTRGEs72JWaK"
      },
      "source": [
        "**산술 연산(Arithmetic operations)**\n",
        "\n"
      ]
    },
    {
      "cell_type": "code",
      "execution_count": null,
      "metadata": {
        "id": "Wtk0Fj-UJWaK",
        "colab": {
          "base_uri": "https://localhost:8080/"
        },
        "outputId": "584cb85e-97c6-4d23-ff1c-4e962e2871d5"
      },
      "outputs": [
        {
          "output_type": "execute_result",
          "data": {
            "text/plain": [
              "tensor([[1., 1., 1., 0., 1., 1., 1.],\n",
              "        [1., 1., 1., 0., 1., 1., 1.],\n",
              "        [1., 1., 1., 0., 1., 1., 1.],\n",
              "        [1., 1., 1., 0., 1., 1., 1.],\n",
              "        [1., 1., 1., 0., 1., 1., 1.],\n",
              "        [1., 1., 1., 0., 1., 1., 1.],\n",
              "        [1., 1., 1., 0., 1., 1., 1.],\n",
              "        [1., 1., 1., 0., 1., 1., 1.]])"
            ]
          },
          "metadata": {},
          "execution_count": 20
        }
      ],
      "source": [
        "# 두 텐서 간의 행렬 곱(matrix multiplication)을 계산합니다. y1, y2, y3은 모두 같은 값을 갖습니다.\n",
        "# ``tensor.T`` 는 텐서의 전치(transpose)를 반환합니다.\n",
        "y1 = tensor @ tensor.T\n",
        "y2 = tensor.matmul(tensor.T)\n",
        "\n",
        "y3 = torch.rand_like(y1)\n",
        "torch.matmul(tensor, tensor.T, out=y3)\n",
        "\n",
        "\n",
        "# 요소별 곱(element-wise product)을 계산합니다. z1, z2, z3는 모두 같은 값을 갖습니다.\n",
        "z1 = tensor * tensor\n",
        "z2 = tensor.mul(tensor)\n",
        "\n",
        "z3 = torch.rand_like(tensor)\n",
        "torch.mul(tensor, tensor, out=z3)"
      ]
    },
    {
      "cell_type": "markdown",
      "metadata": {
        "id": "oK0fgA5AJWaK"
      },
      "source": [
        "**단일-요소(single-element) 텐서** 텐서의 모든 값을 하나로 집계(aggregate)하여 요소가 하나인 텐서의 경우,\n",
        "``item()`` 을 사용하여 Python 숫자 값으로 변환할 수 있습니다:\n",
        "\n"
      ]
    },
    {
      "cell_type": "code",
      "execution_count": null,
      "metadata": {
        "id": "jQsOql8jJWaL",
        "colab": {
          "base_uri": "https://localhost:8080/"
        },
        "outputId": "7fe0879d-73fb-4ca1-b0e3-173592ad4a84"
      },
      "outputs": [
        {
          "output_type": "stream",
          "name": "stdout",
          "text": [
            "tensor(48.)\n",
            "48.0 <class 'float'>\n"
          ]
        }
      ],
      "source": [
        "agg = tensor.sum()\n",
        "print(agg)\n",
        "agg_item = agg.item()\n",
        "print(agg_item, type(agg_item))"
      ]
    },
    {
      "cell_type": "markdown",
      "metadata": {
        "id": "Ibm7kih9JWaL"
      },
      "source": [
        "**바꿔치기(in-place) 연산**\n",
        "연산 결과를 피연산자(operand)에 저장하는 연산을 바꿔치기 연산이라고 부르며, ``_`` 접미사를 갖습니다.\n",
        "예를 들어: ``x.copy_(y)`` 나 ``x.t_()`` 는 ``x`` 를 변경합니다.\n",
        "\n"
      ]
    },
    {
      "cell_type": "code",
      "execution_count": null,
      "metadata": {
        "id": "35ONDW3nJWaL",
        "colab": {
          "base_uri": "https://localhost:8080/"
        },
        "outputId": "3f805594-b4db-4531-bf87-e6384505c54d"
      },
      "outputs": [
        {
          "output_type": "stream",
          "name": "stdout",
          "text": [
            "tensor([[1., 1., 1., 0., 1., 1., 1.],\n",
            "        [1., 1., 1., 0., 1., 1., 1.],\n",
            "        [1., 1., 1., 0., 1., 1., 1.],\n",
            "        [1., 1., 1., 0., 1., 1., 1.],\n",
            "        [1., 1., 1., 0., 1., 1., 1.],\n",
            "        [1., 1., 1., 0., 1., 1., 1.],\n",
            "        [1., 1., 1., 0., 1., 1., 1.],\n",
            "        [1., 1., 1., 0., 1., 1., 1.]]) \n",
            "\n",
            "tensor([[11., 11., 11., 10., 11., 11., 11.],\n",
            "        [11., 11., 11., 10., 11., 11., 11.],\n",
            "        [11., 11., 11., 10., 11., 11., 11.],\n",
            "        [11., 11., 11., 10., 11., 11., 11.],\n",
            "        [11., 11., 11., 10., 11., 11., 11.],\n",
            "        [11., 11., 11., 10., 11., 11., 11.],\n",
            "        [11., 11., 11., 10., 11., 11., 11.],\n",
            "        [11., 11., 11., 10., 11., 11., 11.]])\n"
          ]
        }
      ],
      "source": [
        "print(f\"{tensor} \\n\")\n",
        "tensor.add_(10) # 이곳 변경\n",
        "print(tensor)"
      ]
    },
    {
      "cell_type": "markdown",
      "metadata": {
        "id": "WDWdium4JWaL"
      },
      "source": [
        "<div class=\"alert alert-info\"><h4>Note</h4><p>바꿔치기 연산은 메모리를 일부 절약하지만, 기록(history)이 즉시 삭제되어 도함수(derivative) 계산에 문제가 발생할 수 있습니다.\n",
        "     따라서, 사용을 권장하지 않습니다.</p></div>\n",
        "\n"
      ]
    },
    {
      "cell_type": "markdown",
      "metadata": {
        "id": "3zh4WbdlJWaL"
      },
      "source": [
        "--------------\n",
        "\n",
        "\n"
      ]
    },
    {
      "cell_type": "markdown",
      "metadata": {
        "id": "-oLzofllJWaL"
      },
      "source": [
        "\n",
        "## NumPy 변환(Bridge)\n",
        "CPU 상의 텐서와 NumPy 배열은 메모리 공간을 공유하기 때문에, 하나를 변경하면 다른 하나도 변경됩니다.\n",
        "\n"
      ]
    },
    {
      "cell_type": "markdown",
      "metadata": {
        "id": "LFO3BfcHJWaL"
      },
      "source": [
        "### 텐서를 NumPy 배열로 변환하기\n",
        "\n"
      ]
    },
    {
      "cell_type": "code",
      "execution_count": null,
      "metadata": {
        "id": "SxgamIRpJWaM",
        "colab": {
          "base_uri": "https://localhost:8080/"
        },
        "outputId": "85cc2402-11b2-49f1-ffd7-9e13fd871a61"
      },
      "outputs": [
        {
          "output_type": "stream",
          "name": "stdout",
          "text": [
            "t: tensor([1., 1.])\n",
            "n: [1. 1.]\n"
          ]
        },
        {
          "output_type": "execute_result",
          "data": {
            "text/plain": [
              "(torch.Tensor, numpy.ndarray)"
            ]
          },
          "metadata": {},
          "execution_count": 23
        }
      ],
      "source": [
        "t = torch.ones(2) # 이곳 변형\n",
        "print(f\"t: {t}\")\n",
        "n = t.numpy()\n",
        "print(f\"n: {n}\")\n",
        "type(t), type(n)"
      ]
    },
    {
      "cell_type": "code",
      "source": [
        "torch.Tensor(n)"
      ],
      "metadata": {
        "colab": {
          "base_uri": "https://localhost:8080/"
        },
        "id": "RF0MK8WLWZAi",
        "outputId": "1812ec08-db4f-4006-8316-1b11e86f425b"
      },
      "execution_count": null,
      "outputs": [
        {
          "output_type": "execute_result",
          "data": {
            "text/plain": [
              "tensor([1., 1.])"
            ]
          },
          "metadata": {},
          "execution_count": 24
        }
      ]
    },
    {
      "cell_type": "markdown",
      "metadata": {
        "id": "Krz6X5mkJWaM"
      },
      "source": [
        "텐서의 변경 사항이 NumPy 배열에 반영됩니다.\n",
        "\n"
      ]
    },
    {
      "cell_type": "code",
      "execution_count": null,
      "metadata": {
        "id": "0fAmjZp0JWaM",
        "colab": {
          "base_uri": "https://localhost:8080/"
        },
        "outputId": "f8c9cbdf-14b5-47a6-ce2d-7aec6ebb74f5"
      },
      "outputs": [
        {
          "output_type": "stream",
          "name": "stdout",
          "text": [
            "t: tensor([2., 2.])\n",
            "n: [2. 2.]\n"
          ]
        }
      ],
      "source": [
        "t.add_(1)\n",
        "print(f\"t: {t}\")\n",
        "print(f\"n: {n}\")"
      ]
    },
    {
      "cell_type": "markdown",
      "metadata": {
        "id": "8XWfyaEvJWaM"
      },
      "source": [
        "### NumPy 배열을 텐서로 변환하기\n",
        "\n"
      ]
    },
    {
      "cell_type": "code",
      "execution_count": null,
      "metadata": {
        "id": "SLRO2CCIJWaM"
      },
      "outputs": [],
      "source": [
        "n = np.ones(7) # 이곳 변경\n",
        "t = torch.from_numpy(n)"
      ]
    },
    {
      "cell_type": "markdown",
      "metadata": {
        "id": "d0dt0JtbJWaM"
      },
      "source": [
        "NumPy 배열의 변경 사항이 텐서에 반영됩니다.\n",
        "\n"
      ]
    },
    {
      "cell_type": "code",
      "execution_count": null,
      "metadata": {
        "id": "asAPBOnCJWaM",
        "colab": {
          "base_uri": "https://localhost:8080/"
        },
        "outputId": "6bdd1895-4b4a-47df-8df3-f797fcd67e93"
      },
      "outputs": [
        {
          "output_type": "stream",
          "name": "stdout",
          "text": [
            "t: tensor([4., 4., 4., 4., 4.], dtype=torch.float64)\n",
            "n: [4. 4. 4. 4. 4.]\n"
          ]
        }
      ],
      "source": [
        "np.add(n, 3, out=n) # 이곳 변경\n",
        "print(f\"t: {t}\")\n",
        "print(f\"n: {n}\")"
      ]
    }
  ],
  "metadata": {
    "kernelspec": {
      "display_name": "Python 3",
      "name": "python3"
    },
    "language_info": {
      "codemirror_mode": {
        "name": "ipython",
        "version": 3
      },
      "file_extension": ".py",
      "mimetype": "text/x-python",
      "name": "python",
      "nbconvert_exporter": "python",
      "pygments_lexer": "ipython3",
      "version": "3.9.16"
    },
    "colab": {
      "provenance": [],
      "gpuType": "T4",
      "include_colab_link": true
    },
    "accelerator": "GPU"
  },
  "nbformat": 4,
  "nbformat_minor": 0
}