{
  "nbformat": 4,
  "nbformat_minor": 0,
  "metadata": {
    "colab": {
      "private_outputs": true,
      "provenance": [],
      "authorship_tag": "ABX9TyPjidG2gfAUyG74AJq0lybS",
      "include_colab_link": true
    },
    "kernelspec": {
      "name": "python3",
      "display_name": "Python 3"
    },
    "language_info": {
      "name": "python"
    }
  },
  "cells": [
    {
      "cell_type": "markdown",
      "metadata": {
        "id": "view-in-github",
        "colab_type": "text"
      },
      "source": [
        "<a href=\"https://colab.research.google.com/github/oilportrait/test_colab/blob/main/knn_test.ipynb\" target=\"_parent\"><img src=\"https://colab.research.google.com/assets/colab-badge.svg\" alt=\"Open In Colab\"/></a>"
      ]
    },
    {
      "cell_type": "code",
      "source": [],
      "metadata": {
        "id": "p6YE9T2X3P1j"
      },
      "execution_count": null,
      "outputs": []
    },
    {
      "cell_type": "code",
      "execution_count": null,
      "metadata": {
        "id": "t_4lCWdiqHCG"
      },
      "outputs": [],
      "source": [
        "import pandas as pd\n",
        "\n",
        "targetUrl = \"https://raw.githubusercontent.com/oilportrait/test_colab/main/fake_bills.csv\"\n",
        "\n",
        "df2 = pd.read_csv(targetUrl, sep=';')\n",
        "\n",
        "\n",
        "genuine = df2[\"is_genuine\"]\n",
        " \n",
        "encoded_genuine = pd.get_dummies(genuine, prefix='genuine')\n",
        "df2 = pd.concat([df2, encoded_genuine], axis = 1)\n",
        "df2 = df2.drop(df2.columns[0], axis=1)\n",
        "df2.head()"
      ]
    },
    {
      "cell_type": "code",
      "source": [
        "import missingno as msno\n",
        "import matplotlib.pyplot as plt\n",
        "\n",
        "msno.matrix(df2)\n",
        "plt.show()"
      ],
      "metadata": {
        "id": "6-9_qN1tiI3o"
      },
      "execution_count": null,
      "outputs": []
    },
    {
      "cell_type": "code",
      "source": [
        "msno.bar(df2)\n",
        "plt.show()"
      ],
      "metadata": {
        "id": "CUqIQkeMiu3U"
      },
      "execution_count": null,
      "outputs": []
    },
    {
      "cell_type": "code",
      "source": [
        "from sklearn.impute import KNNImputer\n",
        "\n",
        "imputer = KNNImputer(n_neighbors=5)\n",
        "\n",
        "df2[[\"margin_low\"]] = imputer.fit_transform(df2[[\"margin_low\"]])\n",
        "msno.matrix(df2)"
      ],
      "metadata": {
        "id": "G761XfxoyEdQ"
      },
      "execution_count": null,
      "outputs": []
    },
    {
      "cell_type": "code",
      "source": [
        "from sklearn.model_selection import train_test_split\n",
        "X_train, X_test, y_train, y_test = train_test_split( df2.iloc[:,0:6], df2.iloc[:,6:8], stratify=df2.iloc[:,6:8], random_state=1)"
      ],
      "metadata": {
        "id": "DtDV1eHXflAH"
      },
      "execution_count": null,
      "outputs": []
    },
    {
      "cell_type": "code",
      "source": [
        "X_train.head()"
      ],
      "metadata": {
        "id": "PcsHu5H5hWOc"
      },
      "execution_count": null,
      "outputs": []
    },
    {
      "cell_type": "code",
      "source": [
        "y_train.head()"
      ],
      "metadata": {
        "id": "BkQ7jg3dhbpM"
      },
      "execution_count": null,
      "outputs": []
    },
    {
      "cell_type": "code",
      "source": [
        "type(y_test)"
      ],
      "metadata": {
        "id": "IKEsBoYKhgme"
      },
      "execution_count": null,
      "outputs": []
    },
    {
      "cell_type": "code",
      "source": [
        "import missingno as msno\n",
        "import matplotlib.pyplot as plt\n",
        "\n",
        "df_cat = pd.concat([X_train,y_train], axis=1)\n",
        "\n",
        "df_cat.head()"
      ],
      "metadata": {
        "id": "kS8_P_SmsNPg"
      },
      "execution_count": null,
      "outputs": []
    },
    {
      "cell_type": "code",
      "source": [
        "sns.pairplot(df_cat, hue='genuine_True' );\n",
        "plt.show()"
      ],
      "metadata": {
        "id": "8r5p3Fi7h4cS"
      },
      "execution_count": null,
      "outputs": []
    },
    {
      "cell_type": "code",
      "source": [
        "import numpy as np\n",
        "\n",
        "corr_mat=np.corrcoef(X_train,rowvar=False)\n",
        "\n",
        "sns.heatmap(corr_mat,linewidth=1,cmap='binary')\n",
        "plt.show()"
      ],
      "metadata": {
        "id": "CjCWIk40kUTX"
      },
      "execution_count": null,
      "outputs": []
    },
    {
      "cell_type": "code",
      "source": [
        "from sklearn.preprocessing import StandardScaler\n",
        "\n",
        "std = StandardScaler()\n",
        "std.fit(X_train.iloc[:,0:])\n",
        "X_train.iloc[:,0:]= std.transform(X_train.iloc[:,0:])\n",
        "X_test.iloc[:,0:]= std.transform(X_test.iloc[:,0:])"
      ],
      "metadata": {
        "id": "RuAu1DWMx8z3"
      },
      "execution_count": null,
      "outputs": []
    },
    {
      "cell_type": "code",
      "source": [
        "from sklearn.neighbors import KNeighborsClassifier\n",
        "\n",
        "knn = KNeighborsClassifier(n_neighbors=5)"
      ],
      "metadata": {
        "id": "coz5oNUB0Aaa"
      },
      "execution_count": null,
      "outputs": []
    },
    {
      "cell_type": "code",
      "source": [
        "from sklearn.model_selection import GridSearchCV, KFold\n",
        "\n",
        "grid_params = {\n",
        "    'n_neighbors' : list(range(1,20)),\n",
        "    'weights' : [\"uniform\", \"distance\"],\n",
        "    'metric' : ['euclidean', 'manhattan', 'minkowski']\n",
        "}\n",
        "kfold = KFold(n_splits=10, shuffle=True, random_state=0)\n",
        "\n",
        "gs = GridSearchCV(knn, grid_params, cv=kfold)\n",
        "gs.fit(X_train, y_train)\n",
        "\n",
        "print(\"Best Parameters : \", gs.best_params_)\n",
        "print(\"Best Score : \", gs.best_score_)\n",
        "print(\"Best Test Score : \", gs.score(X_test, y_test))"
      ],
      "metadata": {
        "id": "VRDCVOE_qUG5"
      },
      "execution_count": null,
      "outputs": []
    },
    {
      "cell_type": "code",
      "source": [
        "knn_best = KNeighborsClassifier(metric = 'euclidean', n_neighbors = 10, weights = 'uniform')\n",
        "knn_best.fit(X_train, y_train)"
      ],
      "metadata": {
        "id": "BPXD51ZgqlOy"
      },
      "execution_count": null,
      "outputs": []
    },
    {
      "cell_type": "code",
      "source": [
        "print('*** Test Accuracy *** \\n   {}'.format(knn_best.score(X_test, y_test)))"
      ],
      "metadata": {
        "id": "cnyDV-rB0zLP"
      },
      "execution_count": null,
      "outputs": []
    }
  ]
}